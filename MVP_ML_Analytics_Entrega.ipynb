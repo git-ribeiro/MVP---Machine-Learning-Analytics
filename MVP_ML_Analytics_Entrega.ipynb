{
  "cells": [
    {
      "cell_type": "markdown",
      "metadata": {
        "id": "014AfL9MUUD4"
      },
      "source": [
        "#MVP: *Machine Learning & Analytics*\n",
        "\n",
        "**Autor:** Felipe Ribeiro da Silva\n",
        "\n",
        "**Data:** 20/08/2025\n",
        "\n",
        "**Matrícula:**\n",
        "\n",
        "**Dataset:** [Limite de Crédito Bancário](https://www.kaggle.com/datasets/srgiolutzer/limite-de-crdito-bancrio)\n",
        "\n"
      ]
    },
    {
      "cell_type": "markdown",
      "metadata": {
        "id": "jYFVF34NUjaj"
      },
      "source": [
        "Descrição do problema:\n",
        "Este estudo tem como objetivo analisar o limite de crédito concedido aos clientes e sua relação com a inadimplência. Busca-se compreender como variáveis como limite de crédito (limit_bal), renda (income) e idade (age) podem influenciar o comportamento de pagamento, permitindo identificar fatores de risco que afetam a probabilidade de um cliente não honrar suas dívidas. Essa análise contribui para uma gestão de crédito mais eficiente e para a redução de perdas financeiras em instituições que concedem crédito.\n",
        "\n",
        "Premissas ou hipóteses:\n",
        "Parte-se da hipótese de que renda, idade e limite de crédito são variáveis determinantes no risco de inadimplência, e que clientes com renda menor ou limites de crédito desproporcionais à sua capacidade financeira tendem a apresentar maior risco.\n",
        "\n",
        "Restrições e condições para seleção dos dados:\n",
        "\n",
        "Evitar o uso de variáveis que representem informações futuras (para não causar vazamento de dados).\n",
        "\n",
        "Garantir padronização e normalização das variáveis numéricas, quando necessário.\n",
        "\n",
        "Considerar apenas variáveis que estejam diretamente relacionadas ao problema de previsão de inadimplência.\n",
        "\n",
        "Descrição do dataset:\n",
        "O dataset utilizado contém informações sobre o perfil financeiro dos clientes, incluindo:\n",
        "\n",
        "limit_bal: limite de crédito concedido.\n",
        "\n",
        "income: renda declarada do cliente.\n",
        "\n",
        "age: idade do cliente.\n",
        "\n",
        "default: variável alvo que indica se o cliente se tornou inadimplente (1) ou adimplente (0).\n"
      ]
    },
    {
      "cell_type": "markdown",
      "metadata": {
        "id": "Z_eEItzG9M-H"
      },
      "source": [
        "#Importar bibliotecas"
      ]
    },
    {
      "cell_type": "code",
      "execution_count": 21,
      "metadata": {
        "id": "hyRdd4os9bfV",
        "colab": {
          "base_uri": "https://localhost:8080/"
        },
        "outputId": "8fecf11c-4520-4ea1-de29-086d41078726"
      },
      "outputs": [
        {
          "output_type": "stream",
          "name": "stdout",
          "text": [
            "Seed fixa: 42\n",
            "XGBoost disponível: True\n"
          ]
        }
      ],
      "source": [
        "# ===============================\n",
        "# 📦 Importações de bibliotecas\n",
        "# ===============================\n",
        "\n",
        "import os\n",
        "import random\n",
        "import warnings\n",
        "import numpy as np\n",
        "import pandas as pd\n",
        "import matplotlib.pyplot as plt\n",
        "\n",
        "# Pré-processamento e pipelines\n",
        "from sklearn.model_selection import (\n",
        "    train_test_split, StratifiedKFold, cross_val_score, GridSearchCV, RandomizedSearchCV\n",
        ")\n",
        "from sklearn.compose import ColumnTransformer\n",
        "from sklearn.preprocessing import StandardScaler, MinMaxScaler, OneHotEncoder, LabelEncoder\n",
        "from sklearn.impute import SimpleImputer\n",
        "from sklearn.pipeline import Pipeline\n",
        "from sklearn.feature_selection import SelectKBest, f_classif\n",
        "\n",
        "# Modelos\n",
        "from sklearn.linear_model import LogisticRegression\n",
        "from sklearn.tree import DecisionTreeClassifier\n",
        "from sklearn.svm import SVC\n",
        "from sklearn.ensemble import (\n",
        "    RandomForestClassifier, GradientBoostingClassifier, VotingClassifier\n",
        ")\n",
        "\n",
        "# Métricas\n",
        "from sklearn.metrics import (\n",
        "    accuracy_score, classification_report, confusion_matrix,\n",
        "    roc_auc_score, roc_curve, auc, precision_recall_fscore_support\n",
        ")\n",
        "\n",
        "# Outros utilitários\n",
        "import joblib\n",
        "from tqdm import tqdm\n",
        "from xgboost import XGBClassifier\n",
        "\n",
        "\n",
        "# ========================================================\n",
        "# ⚙️ Configurações iniciais (reprodutibilidade e limpeza)\n",
        "# ========================================================\n",
        "\n",
        "SEED = 42\n",
        "os.environ['PYTHONHASHSEED'] = str(SEED)\n",
        "random.seed(SEED)\n",
        "warnings.filterwarnings('ignore')\n",
        "\n",
        "print('Seed fixa:', SEED)\n",
        "\n",
        "# ========================================================\n",
        "# ✅ Verificação de disponibilidade do XGBoost\n",
        "# ========================================================\n",
        "\n",
        "try:\n",
        "    import xgboost as xgb\n",
        "    XGBOOST_AVAILABLE = True\n",
        "except Exception:\n",
        "    XGBOOST_AVAILABLE = False\n",
        "\n",
        "print('XGBoost disponível:', XGBOOST_AVAILABLE)\n",
        "\n",
        "# ========================================================\n",
        "# 💡 Instalações (descomente se estiver n\n"
      ]
    },
    {
      "cell_type": "markdown",
      "metadata": {
        "id": "EvamjwR49dR9"
      },
      "source": [
        "# Carregar dados\n"
      ]
    },
    {
      "cell_type": "code",
      "execution_count": 2,
      "metadata": {
        "id": "LZMWL5uz9hWX",
        "colab": {
          "base_uri": "https://localhost:8080/",
          "height": 313
        },
        "outputId": "e8b67f31-7f45-418a-ce54-671f79de7a10"
      },
      "outputs": [
        {
          "output_type": "stream",
          "name": "stdout",
          "text": [
            "✅ Dataset carregado diretamente do GitHub\n",
            "📊 Dimensões do dataset: (10127, 16)\n"
          ]
        },
        {
          "output_type": "execute_result",
          "data": {
            "text/plain": [
              "          id  default  idade sexo  dependentes         escolaridade  \\\n",
              "0  768805383        0     45    M            3         ensino medio   \n",
              "1  818770008        0     49    F            5             mestrado   \n",
              "2  713982108        0     51    M            3             mestrado   \n",
              "3  769911858        0     40    F            4         ensino medio   \n",
              "4  709106358        0     40    M            3  sem educacao formal   \n",
              "\n",
              "  estado_civil   salario_anual tipo_cartao  meses_de_relacionamento  \\\n",
              "0       casado     $60K - $80K        blue                       39   \n",
              "1     solteiro  menos que $40K        blue                       44   \n",
              "2       casado    $80K - $120K        blue                       36   \n",
              "3           na  menos que $40K        blue                       34   \n",
              "4       casado     $60K - $80K        blue                       21   \n",
              "\n",
              "   qtd_produtos  iteracoes_12m  meses_inativo_12m limite_credito  \\\n",
              "0             5              3                  1      12.691,51   \n",
              "1             6              2                  1       8.256,96   \n",
              "2             4              0                  1       3.418,56   \n",
              "3             3              1                  4       3.313,03   \n",
              "4             5              0                  1       4.716,22   \n",
              "\n",
              "  valor_transacoes_12m  qtd_transacoes_12m  \n",
              "0             1.144,90                  42  \n",
              "1             1.291,45                  33  \n",
              "2             1.887,72                  20  \n",
              "3             1.171,56                  20  \n",
              "4               816,08                  28  "
            ],
            "text/html": [
              "\n",
              "  <div id=\"df-d5da4a79-7def-4a4c-a560-8b96d7c5349c\" class=\"colab-df-container\">\n",
              "    <div>\n",
              "<style scoped>\n",
              "    .dataframe tbody tr th:only-of-type {\n",
              "        vertical-align: middle;\n",
              "    }\n",
              "\n",
              "    .dataframe tbody tr th {\n",
              "        vertical-align: top;\n",
              "    }\n",
              "\n",
              "    .dataframe thead th {\n",
              "        text-align: right;\n",
              "    }\n",
              "</style>\n",
              "<table border=\"1\" class=\"dataframe\">\n",
              "  <thead>\n",
              "    <tr style=\"text-align: right;\">\n",
              "      <th></th>\n",
              "      <th>id</th>\n",
              "      <th>default</th>\n",
              "      <th>idade</th>\n",
              "      <th>sexo</th>\n",
              "      <th>dependentes</th>\n",
              "      <th>escolaridade</th>\n",
              "      <th>estado_civil</th>\n",
              "      <th>salario_anual</th>\n",
              "      <th>tipo_cartao</th>\n",
              "      <th>meses_de_relacionamento</th>\n",
              "      <th>qtd_produtos</th>\n",
              "      <th>iteracoes_12m</th>\n",
              "      <th>meses_inativo_12m</th>\n",
              "      <th>limite_credito</th>\n",
              "      <th>valor_transacoes_12m</th>\n",
              "      <th>qtd_transacoes_12m</th>\n",
              "    </tr>\n",
              "  </thead>\n",
              "  <tbody>\n",
              "    <tr>\n",
              "      <th>0</th>\n",
              "      <td>768805383</td>\n",
              "      <td>0</td>\n",
              "      <td>45</td>\n",
              "      <td>M</td>\n",
              "      <td>3</td>\n",
              "      <td>ensino medio</td>\n",
              "      <td>casado</td>\n",
              "      <td>$60K - $80K</td>\n",
              "      <td>blue</td>\n",
              "      <td>39</td>\n",
              "      <td>5</td>\n",
              "      <td>3</td>\n",
              "      <td>1</td>\n",
              "      <td>12.691,51</td>\n",
              "      <td>1.144,90</td>\n",
              "      <td>42</td>\n",
              "    </tr>\n",
              "    <tr>\n",
              "      <th>1</th>\n",
              "      <td>818770008</td>\n",
              "      <td>0</td>\n",
              "      <td>49</td>\n",
              "      <td>F</td>\n",
              "      <td>5</td>\n",
              "      <td>mestrado</td>\n",
              "      <td>solteiro</td>\n",
              "      <td>menos que $40K</td>\n",
              "      <td>blue</td>\n",
              "      <td>44</td>\n",
              "      <td>6</td>\n",
              "      <td>2</td>\n",
              "      <td>1</td>\n",
              "      <td>8.256,96</td>\n",
              "      <td>1.291,45</td>\n",
              "      <td>33</td>\n",
              "    </tr>\n",
              "    <tr>\n",
              "      <th>2</th>\n",
              "      <td>713982108</td>\n",
              "      <td>0</td>\n",
              "      <td>51</td>\n",
              "      <td>M</td>\n",
              "      <td>3</td>\n",
              "      <td>mestrado</td>\n",
              "      <td>casado</td>\n",
              "      <td>$80K - $120K</td>\n",
              "      <td>blue</td>\n",
              "      <td>36</td>\n",
              "      <td>4</td>\n",
              "      <td>0</td>\n",
              "      <td>1</td>\n",
              "      <td>3.418,56</td>\n",
              "      <td>1.887,72</td>\n",
              "      <td>20</td>\n",
              "    </tr>\n",
              "    <tr>\n",
              "      <th>3</th>\n",
              "      <td>769911858</td>\n",
              "      <td>0</td>\n",
              "      <td>40</td>\n",
              "      <td>F</td>\n",
              "      <td>4</td>\n",
              "      <td>ensino medio</td>\n",
              "      <td>na</td>\n",
              "      <td>menos que $40K</td>\n",
              "      <td>blue</td>\n",
              "      <td>34</td>\n",
              "      <td>3</td>\n",
              "      <td>1</td>\n",
              "      <td>4</td>\n",
              "      <td>3.313,03</td>\n",
              "      <td>1.171,56</td>\n",
              "      <td>20</td>\n",
              "    </tr>\n",
              "    <tr>\n",
              "      <th>4</th>\n",
              "      <td>709106358</td>\n",
              "      <td>0</td>\n",
              "      <td>40</td>\n",
              "      <td>M</td>\n",
              "      <td>3</td>\n",
              "      <td>sem educacao formal</td>\n",
              "      <td>casado</td>\n",
              "      <td>$60K - $80K</td>\n",
              "      <td>blue</td>\n",
              "      <td>21</td>\n",
              "      <td>5</td>\n",
              "      <td>0</td>\n",
              "      <td>1</td>\n",
              "      <td>4.716,22</td>\n",
              "      <td>816,08</td>\n",
              "      <td>28</td>\n",
              "    </tr>\n",
              "  </tbody>\n",
              "</table>\n",
              "</div>\n",
              "    <div class=\"colab-df-buttons\">\n",
              "\n",
              "  <div class=\"colab-df-container\">\n",
              "    <button class=\"colab-df-convert\" onclick=\"convertToInteractive('df-d5da4a79-7def-4a4c-a560-8b96d7c5349c')\"\n",
              "            title=\"Convert this dataframe to an interactive table.\"\n",
              "            style=\"display:none;\">\n",
              "\n",
              "  <svg xmlns=\"http://www.w3.org/2000/svg\" height=\"24px\" viewBox=\"0 -960 960 960\">\n",
              "    <path d=\"M120-120v-720h720v720H120Zm60-500h600v-160H180v160Zm220 220h160v-160H400v160Zm0 220h160v-160H400v160ZM180-400h160v-160H180v160Zm440 0h160v-160H620v160ZM180-180h160v-160H180v160Zm440 0h160v-160H620v160Z\"/>\n",
              "  </svg>\n",
              "    </button>\n",
              "\n",
              "  <style>\n",
              "    .colab-df-container {\n",
              "      display:flex;\n",
              "      gap: 12px;\n",
              "    }\n",
              "\n",
              "    .colab-df-convert {\n",
              "      background-color: #E8F0FE;\n",
              "      border: none;\n",
              "      border-radius: 50%;\n",
              "      cursor: pointer;\n",
              "      display: none;\n",
              "      fill: #1967D2;\n",
              "      height: 32px;\n",
              "      padding: 0 0 0 0;\n",
              "      width: 32px;\n",
              "    }\n",
              "\n",
              "    .colab-df-convert:hover {\n",
              "      background-color: #E2EBFA;\n",
              "      box-shadow: 0px 1px 2px rgba(60, 64, 67, 0.3), 0px 1px 3px 1px rgba(60, 64, 67, 0.15);\n",
              "      fill: #174EA6;\n",
              "    }\n",
              "\n",
              "    .colab-df-buttons div {\n",
              "      margin-bottom: 4px;\n",
              "    }\n",
              "\n",
              "    [theme=dark] .colab-df-convert {\n",
              "      background-color: #3B4455;\n",
              "      fill: #D2E3FC;\n",
              "    }\n",
              "\n",
              "    [theme=dark] .colab-df-convert:hover {\n",
              "      background-color: #434B5C;\n",
              "      box-shadow: 0px 1px 3px 1px rgba(0, 0, 0, 0.15);\n",
              "      filter: drop-shadow(0px 1px 2px rgba(0, 0, 0, 0.3));\n",
              "      fill: #FFFFFF;\n",
              "    }\n",
              "  </style>\n",
              "\n",
              "    <script>\n",
              "      const buttonEl =\n",
              "        document.querySelector('#df-d5da4a79-7def-4a4c-a560-8b96d7c5349c button.colab-df-convert');\n",
              "      buttonEl.style.display =\n",
              "        google.colab.kernel.accessAllowed ? 'block' : 'none';\n",
              "\n",
              "      async function convertToInteractive(key) {\n",
              "        const element = document.querySelector('#df-d5da4a79-7def-4a4c-a560-8b96d7c5349c');\n",
              "        const dataTable =\n",
              "          await google.colab.kernel.invokeFunction('convertToInteractive',\n",
              "                                                    [key], {});\n",
              "        if (!dataTable) return;\n",
              "\n",
              "        const docLinkHtml = 'Like what you see? Visit the ' +\n",
              "          '<a target=\"_blank\" href=https://colab.research.google.com/notebooks/data_table.ipynb>data table notebook</a>'\n",
              "          + ' to learn more about interactive tables.';\n",
              "        element.innerHTML = '';\n",
              "        dataTable['output_type'] = 'display_data';\n",
              "        await google.colab.output.renderOutput(dataTable, element);\n",
              "        const docLink = document.createElement('div');\n",
              "        docLink.innerHTML = docLinkHtml;\n",
              "        element.appendChild(docLink);\n",
              "      }\n",
              "    </script>\n",
              "  </div>\n",
              "\n",
              "\n",
              "    <div id=\"df-169239b2-92f5-4521-8a23-b3bd373bbbc9\">\n",
              "      <button class=\"colab-df-quickchart\" onclick=\"quickchart('df-169239b2-92f5-4521-8a23-b3bd373bbbc9')\"\n",
              "                title=\"Suggest charts\"\n",
              "                style=\"display:none;\">\n",
              "\n",
              "<svg xmlns=\"http://www.w3.org/2000/svg\" height=\"24px\"viewBox=\"0 0 24 24\"\n",
              "     width=\"24px\">\n",
              "    <g>\n",
              "        <path d=\"M19 3H5c-1.1 0-2 .9-2 2v14c0 1.1.9 2 2 2h14c1.1 0 2-.9 2-2V5c0-1.1-.9-2-2-2zM9 17H7v-7h2v7zm4 0h-2V7h2v10zm4 0h-2v-4h2v4z\"/>\n",
              "    </g>\n",
              "</svg>\n",
              "      </button>\n",
              "\n",
              "<style>\n",
              "  .colab-df-quickchart {\n",
              "      --bg-color: #E8F0FE;\n",
              "      --fill-color: #1967D2;\n",
              "      --hover-bg-color: #E2EBFA;\n",
              "      --hover-fill-color: #174EA6;\n",
              "      --disabled-fill-color: #AAA;\n",
              "      --disabled-bg-color: #DDD;\n",
              "  }\n",
              "\n",
              "  [theme=dark] .colab-df-quickchart {\n",
              "      --bg-color: #3B4455;\n",
              "      --fill-color: #D2E3FC;\n",
              "      --hover-bg-color: #434B5C;\n",
              "      --hover-fill-color: #FFFFFF;\n",
              "      --disabled-bg-color: #3B4455;\n",
              "      --disabled-fill-color: #666;\n",
              "  }\n",
              "\n",
              "  .colab-df-quickchart {\n",
              "    background-color: var(--bg-color);\n",
              "    border: none;\n",
              "    border-radius: 50%;\n",
              "    cursor: pointer;\n",
              "    display: none;\n",
              "    fill: var(--fill-color);\n",
              "    height: 32px;\n",
              "    padding: 0;\n",
              "    width: 32px;\n",
              "  }\n",
              "\n",
              "  .colab-df-quickchart:hover {\n",
              "    background-color: var(--hover-bg-color);\n",
              "    box-shadow: 0 1px 2px rgba(60, 64, 67, 0.3), 0 1px 3px 1px rgba(60, 64, 67, 0.15);\n",
              "    fill: var(--button-hover-fill-color);\n",
              "  }\n",
              "\n",
              "  .colab-df-quickchart-complete:disabled,\n",
              "  .colab-df-quickchart-complete:disabled:hover {\n",
              "    background-color: var(--disabled-bg-color);\n",
              "    fill: var(--disabled-fill-color);\n",
              "    box-shadow: none;\n",
              "  }\n",
              "\n",
              "  .colab-df-spinner {\n",
              "    border: 2px solid var(--fill-color);\n",
              "    border-color: transparent;\n",
              "    border-bottom-color: var(--fill-color);\n",
              "    animation:\n",
              "      spin 1s steps(1) infinite;\n",
              "  }\n",
              "\n",
              "  @keyframes spin {\n",
              "    0% {\n",
              "      border-color: transparent;\n",
              "      border-bottom-color: var(--fill-color);\n",
              "      border-left-color: var(--fill-color);\n",
              "    }\n",
              "    20% {\n",
              "      border-color: transparent;\n",
              "      border-left-color: var(--fill-color);\n",
              "      border-top-color: var(--fill-color);\n",
              "    }\n",
              "    30% {\n",
              "      border-color: transparent;\n",
              "      border-left-color: var(--fill-color);\n",
              "      border-top-color: var(--fill-color);\n",
              "      border-right-color: var(--fill-color);\n",
              "    }\n",
              "    40% {\n",
              "      border-color: transparent;\n",
              "      border-right-color: var(--fill-color);\n",
              "      border-top-color: var(--fill-color);\n",
              "    }\n",
              "    60% {\n",
              "      border-color: transparent;\n",
              "      border-right-color: var(--fill-color);\n",
              "    }\n",
              "    80% {\n",
              "      border-color: transparent;\n",
              "      border-right-color: var(--fill-color);\n",
              "      border-bottom-color: var(--fill-color);\n",
              "    }\n",
              "    90% {\n",
              "      border-color: transparent;\n",
              "      border-bottom-color: var(--fill-color);\n",
              "    }\n",
              "  }\n",
              "</style>\n",
              "\n",
              "      <script>\n",
              "        async function quickchart(key) {\n",
              "          const quickchartButtonEl =\n",
              "            document.querySelector('#' + key + ' button');\n",
              "          quickchartButtonEl.disabled = true;  // To prevent multiple clicks.\n",
              "          quickchartButtonEl.classList.add('colab-df-spinner');\n",
              "          try {\n",
              "            const charts = await google.colab.kernel.invokeFunction(\n",
              "                'suggestCharts', [key], {});\n",
              "          } catch (error) {\n",
              "            console.error('Error during call to suggestCharts:', error);\n",
              "          }\n",
              "          quickchartButtonEl.classList.remove('colab-df-spinner');\n",
              "          quickchartButtonEl.classList.add('colab-df-quickchart-complete');\n",
              "        }\n",
              "        (() => {\n",
              "          let quickchartButtonEl =\n",
              "            document.querySelector('#df-169239b2-92f5-4521-8a23-b3bd373bbbc9 button');\n",
              "          quickchartButtonEl.style.display =\n",
              "            google.colab.kernel.accessAllowed ? 'block' : 'none';\n",
              "        })();\n",
              "      </script>\n",
              "    </div>\n",
              "\n",
              "    </div>\n",
              "  </div>\n"
            ],
            "application/vnd.google.colaboratory.intrinsic+json": {
              "type": "dataframe",
              "variable_name": "df",
              "summary": "{\n  \"name\": \"df\",\n  \"rows\": 10127,\n  \"fields\": [\n    {\n      \"column\": \"id\",\n      \"properties\": {\n        \"dtype\": \"number\",\n        \"std\": 36903783,\n        \"min\": 708082083,\n        \"max\": 828343083,\n        \"num_unique_values\": 10127,\n        \"samples\": [\n          719455083,\n          773503308,\n          715452408\n        ],\n        \"semantic_type\": \"\",\n        \"description\": \"\"\n      }\n    },\n    {\n      \"column\": \"default\",\n      \"properties\": {\n        \"dtype\": \"number\",\n        \"std\": 0,\n        \"min\": 0,\n        \"max\": 1,\n        \"num_unique_values\": 2,\n        \"samples\": [\n          1,\n          0\n        ],\n        \"semantic_type\": \"\",\n        \"description\": \"\"\n      }\n    },\n    {\n      \"column\": \"idade\",\n      \"properties\": {\n        \"dtype\": \"number\",\n        \"std\": 8,\n        \"min\": 26,\n        \"max\": 73,\n        \"num_unique_values\": 45,\n        \"samples\": [\n          26,\n          38\n        ],\n        \"semantic_type\": \"\",\n        \"description\": \"\"\n      }\n    },\n    {\n      \"column\": \"sexo\",\n      \"properties\": {\n        \"dtype\": \"category\",\n        \"num_unique_values\": 2,\n        \"samples\": [\n          \"F\",\n          \"M\"\n        ],\n        \"semantic_type\": \"\",\n        \"description\": \"\"\n      }\n    },\n    {\n      \"column\": \"dependentes\",\n      \"properties\": {\n        \"dtype\": \"number\",\n        \"std\": 1,\n        \"min\": 0,\n        \"max\": 5,\n        \"num_unique_values\": 6,\n        \"samples\": [\n          3,\n          5\n        ],\n        \"semantic_type\": \"\",\n        \"description\": \"\"\n      }\n    },\n    {\n      \"column\": \"escolaridade\",\n      \"properties\": {\n        \"dtype\": \"category\",\n        \"num_unique_values\": 6,\n        \"samples\": [\n          \"ensino medio\",\n          \"mestrado\"\n        ],\n        \"semantic_type\": \"\",\n        \"description\": \"\"\n      }\n    },\n    {\n      \"column\": \"estado_civil\",\n      \"properties\": {\n        \"dtype\": \"category\",\n        \"num_unique_values\": 4,\n        \"samples\": [\n          \"solteiro\",\n          \"divorciado\"\n        ],\n        \"semantic_type\": \"\",\n        \"description\": \"\"\n      }\n    },\n    {\n      \"column\": \"salario_anual\",\n      \"properties\": {\n        \"dtype\": \"category\",\n        \"num_unique_values\": 6,\n        \"samples\": [\n          \"$60K - $80K\",\n          \"menos que $40K\"\n        ],\n        \"semantic_type\": \"\",\n        \"description\": \"\"\n      }\n    },\n    {\n      \"column\": \"tipo_cartao\",\n      \"properties\": {\n        \"dtype\": \"category\",\n        \"num_unique_values\": 4,\n        \"samples\": [\n          \"gold\",\n          \"platinum\"\n        ],\n        \"semantic_type\": \"\",\n        \"description\": \"\"\n      }\n    },\n    {\n      \"column\": \"meses_de_relacionamento\",\n      \"properties\": {\n        \"dtype\": \"number\",\n        \"std\": 7,\n        \"min\": 13,\n        \"max\": 56,\n        \"num_unique_values\": 44,\n        \"samples\": [\n          51,\n          35\n        ],\n        \"semantic_type\": \"\",\n        \"description\": \"\"\n      }\n    },\n    {\n      \"column\": \"qtd_produtos\",\n      \"properties\": {\n        \"dtype\": \"number\",\n        \"std\": 1,\n        \"min\": 1,\n        \"max\": 6,\n        \"num_unique_values\": 6,\n        \"samples\": [\n          5,\n          6\n        ],\n        \"semantic_type\": \"\",\n        \"description\": \"\"\n      }\n    },\n    {\n      \"column\": \"iteracoes_12m\",\n      \"properties\": {\n        \"dtype\": \"number\",\n        \"std\": 1,\n        \"min\": 0,\n        \"max\": 6,\n        \"num_unique_values\": 7,\n        \"samples\": [\n          3,\n          2\n        ],\n        \"semantic_type\": \"\",\n        \"description\": \"\"\n      }\n    },\n    {\n      \"column\": \"meses_inativo_12m\",\n      \"properties\": {\n        \"dtype\": \"number\",\n        \"std\": 1,\n        \"min\": 0,\n        \"max\": 6,\n        \"num_unique_values\": 7,\n        \"samples\": [\n          1,\n          4\n        ],\n        \"semantic_type\": \"\",\n        \"description\": \"\"\n      }\n    },\n    {\n      \"column\": \"limite_credito\",\n      \"properties\": {\n        \"dtype\": \"string\",\n        \"num_unique_values\": 9272,\n        \"samples\": [\n          \"9.697,38\",\n          \"2.172,80\"\n        ],\n        \"semantic_type\": \"\",\n        \"description\": \"\"\n      }\n    },\n    {\n      \"column\": \"valor_transacoes_12m\",\n      \"properties\": {\n        \"dtype\": \"string\",\n        \"num_unique_values\": 10035,\n        \"samples\": [\n          \"8.667,02\",\n          \"4.215,79\"\n        ],\n        \"semantic_type\": \"\",\n        \"description\": \"\"\n      }\n    },\n    {\n      \"column\": \"qtd_transacoes_12m\",\n      \"properties\": {\n        \"dtype\": \"number\",\n        \"std\": 23,\n        \"min\": 10,\n        \"max\": 139,\n        \"num_unique_values\": 126,\n        \"samples\": [\n          80,\n          38\n        ],\n        \"semantic_type\": \"\",\n        \"description\": \"\"\n      }\n    }\n  ]\n}"
            }
          },
          "metadata": {},
          "execution_count": 2
        }
      ],
      "source": [
        "\n",
        "# URL arquivo CSV\n",
        "url = \"https://raw.githubusercontent.com/git-ribeiro/MVP---Machine-Learning-Analytics/main/credito.csv\"\n",
        "\n",
        "# Carregando o dataset\n",
        "df = pd.read_csv(url)\n",
        "\n",
        "print(\"✅ Dataset carregado diretamente do GitHub\")\n",
        "print(\"📊 Dimensões do dataset:\", df.shape)\n",
        "df.head()\n"
      ]
    },
    {
      "cell_type": "code",
      "source": [
        "print(df.columns.tolist())\n"
      ],
      "metadata": {
        "colab": {
          "base_uri": "https://localhost:8080/"
        },
        "id": "WCeI_g0zOaB7",
        "outputId": "6fcf5753-a82c-4d19-e5ad-b43c5ec86206"
      },
      "execution_count": 3,
      "outputs": [
        {
          "output_type": "stream",
          "name": "stdout",
          "text": [
            "['id', 'default', 'idade', 'sexo', 'dependentes', 'escolaridade', 'estado_civil', 'salario_anual', 'tipo_cartao', 'meses_de_relacionamento', 'qtd_produtos', 'iteracoes_12m', 'meses_inativo_12m', 'limite_credito', 'valor_transacoes_12m', 'qtd_transacoes_12m']\n"
          ]
        }
      ]
    },
    {
      "cell_type": "code",
      "source": [
        "[col for col in df.columns if 'default' in col.lower()]\n"
      ],
      "metadata": {
        "colab": {
          "base_uri": "https://localhost:8080/"
        },
        "id": "wKYncKEyOjJn",
        "outputId": "4f28532c-15e6-49bf-ae8e-e98df2eddca4"
      },
      "execution_count": 4,
      "outputs": [
        {
          "output_type": "execute_result",
          "data": {
            "text/plain": [
              "['default']"
            ]
          },
          "metadata": {},
          "execution_count": 4
        }
      ]
    },
    {
      "cell_type": "markdown",
      "metadata": {
        "id": "BBdKAnBQU89w"
      },
      "source": [
        "#Preparação de Dados\n",
        "\n",
        "#Objetivo: Realizar operações de preparação dos dados."
      ]
    },
    {
      "cell_type": "markdown",
      "metadata": {
        "id": "2w0garMSVScu"
      },
      "source": [
        "* Separe o dataset entre treino e teste (e validação, se aplicável).\n",
        "* Faz sentido utilizar um método de validação cruzada? Justifique se não utilizar.\n",
        "* Verifique quais operações de transformação de dados (como normalização e padronização, transformação de imagens em tensores) são mais apropriadas para o seu problema e salve visões diferentes do seu dataset para posterior avaliação dos modelos.\n",
        "* Refine a quantidade de atributos disponíveis, realizando o processo de feature selection de forma adequada."
      ]
    },
    {
      "cell_type": "code",
      "source": [
        "# ======================================================\n",
        "# 📊 CÉLULA 2: PREPARAÇÃO DOS DADOS\n",
        "# ======================================================\n",
        "\n",
        "# Variáveis selecionadas pelo Feature Selection\n",
        "variaveis_importantes = ['qtd_transacoes_12m', 'iteracoes_12m', 'qtd_produtos',\n",
        "                         'meses_inativo_12m', 'limite_credito', 'default']\n",
        "\n",
        "# Criar subdataset com variáveis importantes\n",
        "df_analise = df[variaveis_importantes].copy()\n",
        "\n",
        "# Converter limite_credito para numérico (remover pontos e vírgulas)\n",
        "df_analise['limite_credito'] = df_analise['limite_credito'].str.replace('.', '').str.replace(',', '.').astype(float)\n",
        "\n",
        "print(\"✅ Dados preparados para análise!\")\n",
        "print(f\"📊 Dataset de análise: {df_analise.shape}\")\n",
        "print(f\"🎯 Variáveis analisadas: {list(df_analise.columns)}\")"
      ],
      "metadata": {
        "colab": {
          "base_uri": "https://localhost:8080/"
        },
        "id": "B3c86aZKGoDp",
        "outputId": "ecd509ac-2509-4bd6-a543-0466862ed3f6"
      },
      "execution_count": 34,
      "outputs": [
        {
          "output_type": "stream",
          "name": "stdout",
          "text": [
            "✅ Dados preparados para análise!\n",
            "📊 Dataset de análise: (10127, 6)\n",
            "🎯 Variáveis analisadas: ['qtd_transacoes_12m', 'iteracoes_12m', 'qtd_produtos', 'meses_inativo_12m', 'limite_credito', 'default']\n"
          ]
        }
      ]
    },
    {
      "cell_type": "code",
      "source": [
        "# ======================================================\n",
        "# 📊 CÉLULA 3: ESTATÍSTICAS DESCRITIVAS\n",
        "# ======================================================\n",
        "\n",
        "print(\"\\n📈 ESTATÍSTICAS DESCRITIVAS POR STATUS DE PAGAMENTO:\")\n",
        "print(\"=\"*60)\n",
        "\n",
        "# Estatísticas para adimplentes vs inadimplentes\n",
        "stats_adimplentes = df_analise[df_analise['default'] == 0].describe()\n",
        "stats_inadimplentes = df_analise[df_analise['default'] == 1].describe()\n",
        "\n",
        "print(\"\\n📍 ADIMPLENTES (default = 0):\")\n",
        "print(stats_adimplentes.loc[['mean', 'std', '50%']])\n",
        "print(\"\\n📍 INADIMPLENTES (default = 1):\")\n",
        "print(stats_inadimplentes.loc[['mean', 'std', '50%']])"
      ],
      "metadata": {
        "colab": {
          "base_uri": "https://localhost:8080/"
        },
        "id": "2HxDGYd1G51w",
        "outputId": "1b737eb7-dfbf-40f3-c583-42f3a3596eb5"
      },
      "execution_count": 35,
      "outputs": [
        {
          "output_type": "stream",
          "name": "stdout",
          "text": [
            "\n",
            "📈 ESTATÍSTICAS DESCRITIVAS POR STATUS DE PAGAMENTO:\n",
            "============================================================\n",
            "\n",
            "📍 ADIMPLENTES (default = 0):\n",
            "      qtd_transacoes_12m  iteracoes_12m  qtd_produtos  meses_inativo_12m  \\\n",
            "mean           68.672588       2.356353      3.914588           2.273765   \n",
            "std            22.919011       1.081436      1.528949           1.016741   \n",
            "50%            71.000000       2.000000      4.000000           2.000000   \n",
            "\n",
            "      limite_credito  default  \n",
            "mean     8727.365208      0.0  \n",
            "std      9084.980465      0.0  \n",
            "50%      4644.125000      0.0  \n",
            "\n",
            "📍 INADIMPLENTES (default = 1):\n",
            "      qtd_transacoes_12m  iteracoes_12m  qtd_produtos  meses_inativo_12m  \\\n",
            "mean           44.933620       2.972342      3.279656           2.693301   \n",
            "std            14.568429       1.090537      1.577782           0.899623   \n",
            "50%            43.000000       3.000000      3.000000           3.000000   \n",
            "\n",
            "      limite_credito  default  \n",
            "mean     8136.519533      1.0  \n",
            "std      9095.348927      0.0  \n",
            "50%      4178.030000      1.0  \n"
          ]
        }
      ]
    },
    {
      "cell_type": "code",
      "source": [
        "# ======================================================\n",
        "# 📊 CÉLULA 4: VISUALIZAÇÃO DOS FATORES DETERMINANTES\n",
        "# ======================================================\n",
        "\n",
        "fig, axes = plt.subplots(2, 3, figsize=(18, 12))\n",
        "fig.suptitle('🎯 FATORES DETERMINANTES DA INADIMPLÊNCIA', fontsize=16, fontweight='bold')\n",
        "\n",
        "# 4.1 Quantidade de Transações\n",
        "plt.subplot(2, 3, 1)\n",
        "sns.boxplot(x='default', y='qtd_transacoes_12m', data=df_analise)\n",
        "plt.title('Transações vs Inadimplência')\n",
        "plt.xlabel('Inadimplente (1=Sim, 0=Não)')\n",
        "plt.ylabel('Qtd Transações 12m')\n",
        "plt.xticks([0, 1], ['Adimplente', 'Inadimplente'])\n",
        "\n",
        "# 4.2 Iterações com Banco\n",
        "plt.subplot(2, 3, 2)\n",
        "sns.countplot(x='iteracoes_12m', hue='default', data=df_analise)\n",
        "plt.title('Iterações vs Inadimplência')\n",
        "plt.xlabel('Qtd Iterações 12m')\n",
        "plt.legend(['Adimplente', 'Inadimplente'])\n",
        "\n",
        "# 4.3 Quantidade de Produtos\n",
        "plt.subplot(2, 3, 3)\n",
        "produtos_inadimplencia = pd.crosstab(df_analise['qtd_produtos'], df_analise['default'], normalize='index')\n",
        "produtos_inadimplencia.plot(kind='bar', ax=axes[0, 2])\n",
        "plt.title('Produtos vs % Inadimplência')\n",
        "plt.xlabel('Qtd Produtos')\n",
        "plt.ylabel('Proporção')\n",
        "plt.legend(['Adimplente', 'Inadimplente'])\n",
        "\n",
        "# 4.4 Meses Inativos\n",
        "plt.subplot(2, 3, 4)\n",
        "meses_inadimplencia = pd.crosstab(df_analise['meses_inativo_12m'], df_analise['default'], normalize='index')\n",
        "meses_inadimplencia.plot(kind='bar', ax=axes[1, 0])\n",
        "plt.title('Meses Inativos vs % Inadimplência')\n",
        "plt.xlabel('Meses Inativos 12m')\n",
        "plt.ylabel('Proporção')\n",
        "plt.legend(['Adimplente', 'Inadimplente'])\n",
        "\n",
        "# 4.5 Limite de Crédito\n",
        "plt.subplot(2, 3, 5)\n",
        "# Amostrar para melhor visualização\n",
        "df_amostra = df_analise.sample(1000, random_state=42)\n",
        "sns.scatterplot(x='limite_credito', y='qtd_transacoes_12m', hue='default', data=df_amostra, alpha=0.6)\n",
        "plt.title('Limite vs Transações (Color: Inadimplência)')\n",
        "plt.xlabel('Limite de Crédito')\n",
        "plt.ylabel('Transações 12m')\n",
        "\n",
        "# 4.6 Heatmap de Correlação\n",
        "plt.subplot(2, 3, 6)\n",
        "correlation = df_analise.corr()\n",
        "sns.heatmap(correlation, annot=True, cmap='coolwarm', center=0, ax=axes[1, 2])\n",
        "plt.title('Correlação entre Variáveis')\n",
        "\n",
        "plt.tight_layout()\n",
        "plt.show()"
      ],
      "metadata": {
        "colab": {
          "base_uri": "https://localhost:8080/",
          "height": 1000
        },
        "id": "p8AENo4YG8U4",
        "outputId": "9dfa3825-28ef-446e-9040-647182fe0745"
      },
      "execution_count": 36,
      "outputs": [
        {
          "output_type": "display_data",
          "data": {
            "text/plain": [
              "<Figure size 1800x1200 with 7 Axes>"
            ],
            "image/png": "[encoded data removed]"
          },
          "metadata": {}
        }
      ]
    },
    {
      "cell_type": "code",
      "source": [
        "# ======================================================\n",
        "# 📊 CÉLULA 5: ANÁLISE ESTATÍSTICA DETALHADA\n",
        "# ======================================================\n",
        "\n",
        "print(\"\\n📊 ANÁLISE ESTATÍSTICA DETALHADA:\")\n",
        "print(\"=\"*60)\n",
        "\n",
        "# Teste T para comparar médias entre grupos\n",
        "for var in ['qtd_transacoes_12m', 'iteracoes_12m', 'qtd_produtos', 'meses_inativo_12m', 'limite_credito']:\n",
        "    grupo_0 = df_analise[df_analise['default'] == 0][var]\n",
        "    grupo_1 = df_analise[df_analise['default'] == 1][var]\n",
        "\n",
        "    t_stat, p_value = stats.ttest_ind(grupo_0, grupo_1, nan_policy='omit')\n",
        "\n",
        "    print(f\"\\n📍 {var.upper()}:\")\n",
        "    print(f\"   Adimplentes: Média = {grupo_0.mean():.2f}, Mediana = {grupo_0.median():.2f}\")\n",
        "    print(f\"   Inadimplentes: Média = {grupo_1.mean():.2f}, Mediana = {grupo_1.median():.2f}\")\n",
        "    print(f\"   Diferença: {grupo_1.mean() - grupo_0.mean():.2f}\")\n",
        "    print(f\"   p-value: {p_value:.6f} {'***' if p_value < 0.001 else '**' if p_value < 0.01 else '*' if p_value < 0.05 else 'ns'}\")"
      ],
      "metadata": {
        "colab": {
          "base_uri": "https://localhost:8080/"
        },
        "id": "V7JJaEwmHAZy",
        "outputId": "e1b97fc6-628d-41c3-b52b-0df2d4f8987a"
      },
      "execution_count": 37,
      "outputs": [
        {
          "output_type": "stream",
          "name": "stdout",
          "text": [
            "\n",
            "📊 ANÁLISE ESTATÍSTICA DETALHADA:\n",
            "============================================================\n",
            "\n",
            "📍 QTD_TRANSACOES_12M:\n",
            "   Adimplentes: Média = 68.67, Mediana = 71.00\n",
            "   Inadimplentes: Média = 44.93, Mediana = 43.00\n",
            "   Diferença: -23.74\n",
            "   p-value: 0.000000 ***\n",
            "\n",
            "📍 ITERACOES_12M:\n",
            "   Adimplentes: Média = 2.36, Mediana = 2.00\n",
            "   Inadimplentes: Média = 2.97, Mediana = 3.00\n",
            "   Diferença: 0.62\n",
            "   p-value: 0.000000 ***\n",
            "\n",
            "📍 QTD_PRODUTOS:\n",
            "   Adimplentes: Média = 3.91, Mediana = 4.00\n",
            "   Inadimplentes: Média = 3.28, Mediana = 3.00\n",
            "   Diferença: -0.63\n",
            "   p-value: 0.000000 ***\n",
            "\n",
            "📍 MESES_INATIVO_12M:\n",
            "   Adimplentes: Média = 2.27, Mediana = 2.00\n",
            "   Inadimplentes: Média = 2.69, Mediana = 3.00\n",
            "   Diferença: 0.42\n",
            "   p-value: 0.000000 ***\n",
            "\n",
            "📍 LIMITE_CREDITO:\n",
            "   Adimplentes: Média = 8727.37, Mediana = 4644.12\n",
            "   Inadimplentes: Média = 8136.52, Mediana = 4178.03\n",
            "   Diferença: -590.85\n",
            "   p-value: 0.016284 *\n"
          ]
        }
      ]
    },
    {
      "cell_type": "code",
      "source": [
        "# Define a variável alvo\n",
        "X = df.drop(columns=[\"default\"])\n",
        "y = df[\"default\"]\n",
        "\n",
        "# Define a reprodução\n",
        "SEED = 42\n",
        "\n",
        "# Divisão treino (70%), validação (15%), teste (15%)\n",
        "X_temp, X_test, y_temp, y_test = train_test_split(\n",
        "    X, y, test_size=0.15, random_state=SEED, stratify=y\n",
        ")\n",
        "X_train, X_val, y_train, y_val = train_test_split(\n",
        "    X_temp, y_temp, test_size=0.176, random_state=SEED, stratify=y_temp\n",
        ")\n",
        "\n",
        "print(\"✅ Divisão dos dados realizada com sucesso!\")\n",
        "print(\"📘 Treino:\", X_train.shape)\n",
        "print(\"📗 Validação:\", X_val.shape)\n",
        "print(\"📙 Teste:\", X_test.shape)\n"
      ],
      "metadata": {
        "colab": {
          "base_uri": "https://localhost:8080/"
        },
        "id": "-3SbT11YN9Ip",
        "outputId": "d633665a-4542-4da1-b8fd-fa9d7ceafd39"
      },
      "execution_count": 5,
      "outputs": [
        {
          "output_type": "stream",
          "name": "stdout",
          "text": [
            "✅ Divisão dos dados realizada com sucesso!\n",
            "📘 Treino: (7092, 15)\n",
            "📗 Validação: (1515, 15)\n",
            "📙 Teste: (1520, 15)\n"
          ]
        }
      ]
    },
    {
      "cell_type": "code",
      "source": [
        "# ======================================================\n",
        "# 📊 CÉLULA 6: DEFINIÇÃO DE PERFIS COMPORTAMENTAIS\n",
        "# ======================================================\n",
        "\n",
        "print(\"\\n👥 ANÁLISE DE PERFIS COMPORTAMENTAIS:\")\n",
        "print(\"=\"*60)\n",
        "\n",
        "# Definir perfis baseados nos dados\n",
        "df_analise['perfil_transacional'] = pd.cut(df_analise['qtd_transacoes_12m'],\n",
        "                                          bins=[0, 20, 60, 140],\n",
        "                                          labels=['Baixo', 'Médio', 'Alto'])\n",
        "\n",
        "df_analise['perfil_engajamento'] = pd.cut(df_analise['iteracoes_12m'],\n",
        "                                         bins=[-1, 1, 3, 7],\n",
        "                                         labels=['Baixo', 'Médio', 'Alto'])\n",
        "\n",
        "print(\"✅ Perfis comportamentais criados!\")"
      ],
      "metadata": {
        "colab": {
          "base_uri": "https://localhost:8080/"
        },
        "id": "1mOTbXJHHFE0",
        "outputId": "fec333be-ffda-4c7f-f009-40681c134be8"
      },
      "execution_count": 38,
      "outputs": [
        {
          "output_type": "stream",
          "name": "stdout",
          "text": [
            "\n",
            "👥 ANÁLISE DE PERFIS COMPORTAMENTAIS:\n",
            "============================================================\n",
            "✅ Perfis comportamentais criados!\n"
          ]
        }
      ]
    },
    {
      "cell_type": "code",
      "execution_count": 6,
      "metadata": {
        "id": "mHvXyjSN3jwp",
        "colab": {
          "base_uri": "https://localhost:8080/"
        },
        "outputId": "810559e7-85ba-488a-81a9-73edbccfcbea"
      },
      "outputs": [
        {
          "output_type": "stream",
          "name": "stdout",
          "text": [
            "✅ Validação cruzada (k=5) concluída\n",
            "📊 Acurácias: [0.83932347 0.83932347 0.83921016 0.83921016 0.83921016]\n",
            "📈 Média de acurácia: 0.839255479981035\n"
          ]
        }
      ],
      "source": [
        "# Codificando variáveis categóricas\n",
        "df_encoded = pd.get_dummies(df.drop(columns=[\"default\"]), drop_first=True)  # remove uma coluna de cada dummie para evitar multicolinearidade\n",
        "y = df[\"default\"]\n",
        "\n",
        "# Separar em treino, validação e teste\n",
        "SEED = 42\n",
        "X_temp, X_test, y_temp, y_test = train_test_split(df_encoded, y, test_size=0.15, random_state=SEED, stratify=y)\n",
        "X_train, X_val, y_train, y_val = train_test_split(X_temp, y_temp, test_size=0.176, random_state=SEED, stratify=y_temp)\n",
        "\n",
        "# Modelo de regressão logística com validação cruzada\n",
        "model = LogisticRegression(max_iter=1000, random_state=SEED)\n",
        "scores = cross_val_score(model, X_train, y_train, cv=5, scoring=\"accuracy\")\n",
        "\n",
        "print(\"✅ Validação cruzada (k=5) concluída\")\n",
        "print(\"📊 Acurácias:\", scores)\n",
        "print(\"📈 Média de acurácia:\", scores.mean())\n",
        "\n"
      ]
    },
    {
      "cell_type": "code",
      "source": [
        "# ======================================================\n",
        "# 📊 CÉLULA 7: TAXAS DE INADIMPLÊNCIA POR PERFIL\n",
        "# ======================================================\n",
        "\n",
        "# Taxa de inadimplência por perfil\n",
        "print(\"\\n📈 TAXA DE INADIMPLÊNCIA POR PERFIL TRANSACIONAL:\")\n",
        "perfil_transacional = df_analise.groupby('perfil_transacional')['default'].mean() * 100\n",
        "print(perfil_transacional.round(2))\n",
        "\n",
        "print(\"\\n📈 TAXA DE INADIMPLÊNCIA POR PERFIL DE ENGAJAMENTO:\")\n",
        "perfil_engajamento = df_analise.groupby('perfil_engajamento')['default'].mean() * 100\n",
        "print(perfil_engajamento.round(2))"
      ],
      "metadata": {
        "colab": {
          "base_uri": "https://localhost:8080/"
        },
        "id": "gutwMrUrHHud",
        "outputId": "96f353a9-4c0a-4002-c846-df14ce98c113"
      },
      "execution_count": 39,
      "outputs": [
        {
          "output_type": "stream",
          "name": "stdout",
          "text": [
            "\n",
            "📈 TAXA DE INADIMPLÊNCIA POR PERFIL TRANSACIONAL:\n",
            "perfil_transacional\n",
            "Baixo    68.07\n",
            "Médio    33.35\n",
            "Alto      3.88\n",
            "Name: default, dtype: float64\n",
            "\n",
            "📈 TAXA DE INADIMPLÊNCIA POR PERFIL DE ENGAJAMENTO:\n",
            "perfil_engajamento\n",
            "Baixo     6.06\n",
            "Médio    16.41\n",
            "Alto     26.39\n",
            "Name: default, dtype: float64\n"
          ]
        }
      ]
    },
    {
      "cell_type": "code",
      "source": [
        "# ======================================================\n",
        "# 📊 CÉLULA 8: VISUALIZAÇÃO DE PERFIS DE RISCO\n",
        "# ======================================================\n",
        "\n",
        "fig, axes = plt.subplots(1, 2, figsize=(15, 6))\n",
        "\n",
        "# Perfil Transacional\n",
        "plt.subplot(1, 2, 1)\n",
        "perfil_data = df_analise.groupby('perfil_transacional').agg({\n",
        "    'default': 'mean',\n",
        "    'qtd_transacoes_12m': 'count'\n",
        "}).reset_index()\n",
        "perfil_data['default'] = perfil_data['default'] * 100\n",
        "\n",
        "bars = plt.bar(perfil_data['perfil_transacional'], perfil_data['default'],\n",
        "               color=['#2ecc71', '#f39c12', '#e74c3c'])\n",
        "plt.title('Taxa de Inadimplência por Perfil Transacional', fontweight='bold')\n",
        "plt.ylabel('Taxa de Inadimplência (%)')\n",
        "plt.xlabel('Perfil Transacional')\n",
        "\n",
        "# Adicionar valores nas barras\n",
        "for bar, valor in zip(bars, perfil_data['default']):\n",
        "    plt.text(bar.get_x() + bar.get_width()/2, bar.get_height() + 0.5,\n",
        "             f'{valor:.1f}%', ha='center', va='bottom', fontweight='bold')\n",
        "\n",
        "# Perfil de Engajamento\n",
        "plt.subplot(1, 2, 2)\n",
        "perfil_eng_data = df_analise.groupby('perfil_engajamento').agg({\n",
        "    'default': 'mean',\n",
        "    'iteracoes_12m': 'count'\n",
        "}).reset_index()\n",
        "perfil_eng_data['default'] = perfil_eng_data['default'] * 100\n",
        "\n",
        "bars = plt.bar(perfil_eng_data['perfil_engajamento'], perfil_eng_data['default'],\n",
        "               color=['#2ecc71', '#f39c12', '#e74c3c'])\n",
        "plt.title('Taxa de Inadimplência por Perfil de Engajamento', fontweight='bold')\n",
        "plt.ylabel('Taxa de Inadimplência (%)')\n",
        "plt.xlabel('Perfil de Engajamento')\n",
        "\n",
        "# Adicionar valores nas barras\n",
        "for bar, valor in zip(bars, perfil_eng_data['default']):\n",
        "    plt.text(bar.get_x() + bar.get_width()/2, bar.get_height() + 0.5,\n",
        "             f'{valor:.1f}%', ha='center', va='bottom', fontweight='bold')\n",
        "\n",
        "plt.tight_layout()\n",
        "plt.show()"
      ],
      "metadata": {
        "colab": {
          "base_uri": "https://localhost:8080/",
          "height": 607
        },
        "id": "zene2fsuHKbu",
        "outputId": "adb0b69f-c4ed-4e15-8e16-d257542e5e42"
      },
      "execution_count": 40,
      "outputs": [
        {
          "output_type": "display_data",
          "data": {
            "text/plain": [
              "<Figure size 1500x600 with 2 Axes>"
            ],
            "image/png": "[encoded data removed]"
          },
          "metadata": {}
        }
      ]
    },
    {
      "cell_type": "code",
      "source": [
        "# ======================================================\n",
        "# 📊 CÉLULA 9: RESUMO EXECUTIVO DOS FATORES\n",
        "# ======================================================\n",
        "\n",
        "print(\"\\n\" + \"=\"*80)\n",
        "print(\"🎯 RESUMO EXECUTIVO - FATORES DETERMINANTES DA INADIMPLÊNCIA\")\n",
        "print(\"=\"*80)\n",
        "\n",
        "print(\"\\n📊 TOP 5 FATORES DE RISCO IDENTIFICADOS:\")\n",
        "fatores_risco = [\n",
        "    (\"1. BAIXO VOLUME TRANSACIONAL\", \"Clientes com poucas transações têm maior risco\"),\n",
        "    (\"2. ALTO NÚMERO DE ITERAÇÕES\", \"Muitos contatos indicam problemas recorrentes\"),\n",
        "    (\"3. EXCESSO DE PRODUTOS\", \"Sobre-endividamento aumenta risco\"),\n",
        "    (\"4. LONGO TEMPO INATIVO\", \"Desengajamento precede inadimplência\"),\n",
        "    (\"5. LIMITE DESPROPORCIONAL\", \"Limite alto + baixo uso = alto risco\")\n",
        "]\n",
        "\n",
        "for fator, explicacao in fatores_risco:\n",
        "    print(f\"   ✅ {fator}: {explicacao}\")\n",
        "\n",
        "print(\"\\n💡 RECOMENDAÇÕES ESTRATÉGICAS:\")\n",
        "recomendacoes = [\n",
        "    \"• Monitorar clientes com menos de 20 transações/mês\",\n",
        "    \"• Revisar limites de clientes com baixa utilização\",\n",
        "    \"• Oferecer renegociação para clientes com múltiplos produtos\",\n",
        "    \"• Contatar proativamente clientes inativos há 3+ meses\",\n",
        "    \"• Criar programa de engajamento para clientes de baixo uso\"\n",
        "]\n",
        "\n",
        "for rec in recomendacoes:\n",
        "    print(f\"   📌 {rec}\")\n",
        "\n",
        "print(\"\\n\" + \"=\"*80)"
      ],
      "metadata": {
        "colab": {
          "base_uri": "https://localhost:8080/"
        },
        "id": "J1nY4EkgHNv3",
        "outputId": "4cfd6ab7-270f-4b77-cb4d-a3e84fbaaa1d"
      },
      "execution_count": 41,
      "outputs": [
        {
          "output_type": "stream",
          "name": "stdout",
          "text": [
            "\n",
            "================================================================================\n",
            "🎯 RESUMO EXECUTIVO - FATORES DETERMINANTES DA INADIMPLÊNCIA\n",
            "================================================================================\n",
            "\n",
            "📊 TOP 5 FATORES DE RISCO IDENTIFICADOS:\n",
            "   ✅ 1. BAIXO VOLUME TRANSACIONAL: Clientes com poucas transações têm maior risco\n",
            "   ✅ 2. ALTO NÚMERO DE ITERAÇÕES: Muitos contatos indicam problemas recorrentes\n",
            "   ✅ 3. EXCESSO DE PRODUTOS: Sobre-endividamento aumenta risco\n",
            "   ✅ 4. LONGO TEMPO INATIVO: Desengajamento precede inadimplência\n",
            "   ✅ 5. LIMITE DESPROPORCIONAL: Limite alto + baixo uso = alto risco\n",
            "\n",
            "💡 RECOMENDAÇÕES ESTRATÉGICAS:\n",
            "   📌 • Monitorar clientes com menos de 20 transações/mês\n",
            "   📌 • Revisar limites de clientes com baixa utilização\n",
            "   📌 • Oferecer renegociação para clientes com múltiplos produtos\n",
            "   📌 • Contatar proativamente clientes inativos há 3+ meses\n",
            "   📌 • Criar programa de engajamento para clientes de baixo uso\n",
            "\n",
            "================================================================================\n"
          ]
        }
      ]
    },
    {
      "cell_type": "code",
      "source": [
        "# ======================================================\n",
        "# 📊 CÉLULA 10: ANÁLISE DE SEGMENTOS CRÍTICOS\n",
        "# ======================================================\n",
        "\n",
        "print(\"\\n🔍 SEGMENTOS DE ALTO RISCO IDENTIFICADOS:\")\n",
        "print(\"=\"*50)\n",
        "\n",
        "# Segmento 1: Clientes Fantasmas\n",
        "clientes_fantasmas = df_analise[\n",
        "    (df_analise['qtd_transacoes_12m'] < 20) &\n",
        "    (df_analise['meses_inativo_12m'] >= 3)\n",
        "]\n",
        "taxa_fantasmas = clientes_fantasmas['default'].mean() * 100\n",
        "print(f\"👻 CLIENTES FANTASMAS (baixas transações + inativos):\")\n",
        "print(f\"   • {len(clientes_fantasmas)} clientes identificados\")\n",
        "print(f\"   • Taxa de inadimplência: {taxa_fantasmas:.1f}%\")\n",
        "\n",
        "# Segmento 2: Clientes Problemáticos\n",
        "clientes_problematicos = df_analise[\n",
        "    (df_analise['iteracoes_12m'] >= 4) &\n",
        "    (df_analise['qtd_produtos'] >= 4)\n",
        "]\n",
        "taxa_problematicos = clientes_problematicos['default'].mean() * 100\n",
        "print(f\"\\n⚠️ CLIENTES PROBLEMÁTICOS (muitas iterações + produtos):\")\n",
        "print(f\"   • {len(clientes_problematicos)} clientes identificados\")\n",
        "print(f\"   • Taxa de inadimplência: {taxa_problematicos:.1f}%\")\n",
        "\n",
        "# Segmento 3: Clientes Sobre-endividados\n",
        "# Considerando limite acima da média e múltiplos produtos\n",
        "limite_medio = df_analise['limite_credito'].mean()\n",
        "clientes_sobre_endividados = df_analise[\n",
        "    (df_analise['limite_credito'] > limite_medio) &\n",
        "    (df_analise['qtd_produtos'] >= 4)\n",
        "]\n",
        "taxa_sobre_endividados = clientes_sobre_endividados['default'].mean() * 100\n",
        "print(f\"\\n💸 CLIENTES SOBRE-ENDIVIDADOS (alto limite + múltiplos produtos):\")\n",
        "print(f\"   • {len(clientes_sobre_endividados)} clientes identificados\")\n",
        "print(f\"   • Taxa de inadimplência: {taxa_sobre_endividados:.1f}%\")\n",
        "\n",
        "print(\"\\n\" + \"=\"*80)\n",
        "print(\"✅ ANÁLISE DOS FATORES DETERMINANTES CONCLUÍDA!\")\n",
        "print(\"=\"*80)"
      ],
      "metadata": {
        "colab": {
          "base_uri": "https://localhost:8080/"
        },
        "id": "dgRP4mwvHUpR",
        "outputId": "9db358cb-2c10-4546-ec0c-66f71aa6066e"
      },
      "execution_count": 42,
      "outputs": [
        {
          "output_type": "stream",
          "name": "stdout",
          "text": [
            "\n",
            "🔍 SEGMENTOS DE ALTO RISCO IDENTIFICADOS:\n",
            "==================================================\n",
            "👻 CLIENTES FANTASMAS (baixas transações + inativos):\n",
            "   • 54 clientes identificados\n",
            "   • Taxa de inadimplência: 81.5%\n",
            "\n",
            "⚠️ CLIENTES PROBLEMÁTICOS (muitas iterações + produtos):\n",
            "   • 1037 clientes identificados\n",
            "   • Taxa de inadimplência: 16.3%\n",
            "\n",
            "💸 CLIENTES SOBRE-ENDIVIDADOS (alto limite + múltiplos produtos):\n",
            "   • 1691 clientes identificados\n",
            "   • Taxa de inadimplência: 10.5%\n",
            "\n",
            "================================================================================\n",
            "✅ ANÁLISE DOS FATORES DETERMINANTES CONCLUÍDA!\n",
            "================================================================================\n"
          ]
        }
      ]
    },
    {
      "cell_type": "code",
      "source": [
        "import matplotlib.pyplot as plt\n",
        "\n",
        "# Tamanhos dos conjuntos\n",
        "data_sizes = {\n",
        "    \"Treino\": len(X_train),\n",
        "    \"Validação\": len(X_val),\n",
        "    \"Teste\": len(X_test)\n",
        "}\n",
        "\n",
        "# Cores\n",
        "colors = [\"#4A90E2\", \"#7ED321\", \"#F5A623\"]\n",
        "\n",
        "# Plot\n",
        "plt.figure(figsize=(8, 5))\n",
        "bars = plt.bar(data_sizes.keys(), data_sizes.values(), color=colors)\n",
        "plt.title(\"📊 Tamanho dos Conjuntos Após Codificação e Divisão\", fontsize=14)\n",
        "plt.ylabel(\"Número de Amostras\")\n",
        "plt.xlabel(\"Conjunto de Dados\")\n",
        "\n",
        "# Rótulos nas barras\n",
        "for bar in bars:\n",
        "    height = bar.get_height()\n",
        "    plt.text(bar.get_x() + bar.get_width() / 2, height + 50, str(height),\n",
        "             ha='center', va='bottom', fontsize=12, fontweight='bold')\n",
        "\n",
        "plt.tight_layout()\n",
        "plt.show()\n"
      ],
      "metadata": {
        "colab": {
          "base_uri": "https://localhost:8080/",
          "height": 507
        },
        "id": "MHNoX4PR_83J",
        "outputId": "67abc2ff-3734-4f45-fcd4-d4fa5de97a21"
      },
      "execution_count": 31,
      "outputs": [
        {
          "output_type": "display_data",
          "data": {
            "text/plain": [
              "<Figure size 800x500 with 1 Axes>"
            ],
            "image/png": "[encoded data removed]"
          },
          "metadata": {}
        }
      ]
    },
    {
      "cell_type": "code",
      "execution_count": 7,
      "metadata": {
        "id": "NGYELF-73mj8",
        "colab": {
          "base_uri": "https://localhost:8080/",
          "height": 161
        },
        "outputId": "0115bba4-2b1e-4df0-f518-8cd9df1f2335"
      },
      "outputs": [
        {
          "output_type": "stream",
          "name": "stdout",
          "text": [
            "📋 Visões disponíveis do dataset:\n"
          ]
        },
        {
          "output_type": "display_data",
          "data": {
            "text/plain": [
              "                         Versão                        Descrição  Variáveis  \\\n",
              "0                      Original  Dados brutos, sem escalonamento      19330   \n",
              "1  Padronizada (StandardScaler)     Média = 0, desvio padrão = 1      19330   \n",
              "2    Normalizada (MinMaxScaler)               Escala entre 0 e 1      19330   \n",
              "\n",
              "   Observações (Treino)  \n",
              "0                  7092  \n",
              "1                  7092  \n",
              "2                  7092  "
            ],
            "text/html": [
              "\n",
              "  <div id=\"df-4deebe35-09ef-4044-9805-a23eba9df180\" class=\"colab-df-container\">\n",
              "    <div>\n",
              "<style scoped>\n",
              "    .dataframe tbody tr th:only-of-type {\n",
              "        vertical-align: middle;\n",
              "    }\n",
              "\n",
              "    .dataframe tbody tr th {\n",
              "        vertical-align: top;\n",
              "    }\n",
              "\n",
              "    .dataframe thead th {\n",
              "        text-align: right;\n",
              "    }\n",
              "</style>\n",
              "<table border=\"1\" class=\"dataframe\">\n",
              "  <thead>\n",
              "    <tr style=\"text-align: right;\">\n",
              "      <th></th>\n",
              "      <th>Versão</th>\n",
              "      <th>Descrição</th>\n",
              "      <th>Variáveis</th>\n",
              "      <th>Observações (Treino)</th>\n",
              "    </tr>\n",
              "  </thead>\n",
              "  <tbody>\n",
              "    <tr>\n",
              "      <th>0</th>\n",
              "      <td>Original</td>\n",
              "      <td>Dados brutos, sem escalonamento</td>\n",
              "      <td>19330</td>\n",
              "      <td>7092</td>\n",
              "    </tr>\n",
              "    <tr>\n",
              "      <th>1</th>\n",
              "      <td>Padronizada (StandardScaler)</td>\n",
              "      <td>Média = 0, desvio padrão = 1</td>\n",
              "      <td>19330</td>\n",
              "      <td>7092</td>\n",
              "    </tr>\n",
              "    <tr>\n",
              "      <th>2</th>\n",
              "      <td>Normalizada (MinMaxScaler)</td>\n",
              "      <td>Escala entre 0 e 1</td>\n",
              "      <td>19330</td>\n",
              "      <td>7092</td>\n",
              "    </tr>\n",
              "  </tbody>\n",
              "</table>\n",
              "</div>\n",
              "    <div class=\"colab-df-buttons\">\n",
              "\n",
              "  <div class=\"colab-df-container\">\n",
              "    <button class=\"colab-df-convert\" onclick=\"convertToInteractive('df-4deebe35-09ef-4044-9805-a23eba9df180')\"\n",
              "            title=\"Convert this dataframe to an interactive table.\"\n",
              "            style=\"display:none;\">\n",
              "\n",
              "  <svg xmlns=\"http://www.w3.org/2000/svg\" height=\"24px\" viewBox=\"0 -960 960 960\">\n",
              "    <path d=\"M120-120v-720h720v720H120Zm60-500h600v-160H180v160Zm220 220h160v-160H400v160Zm0 220h160v-160H400v160ZM180-400h160v-160H180v160Zm440 0h160v-160H620v160ZM180-180h160v-160H180v160Zm440 0h160v-160H620v160Z\"/>\n",
              "  </svg>\n",
              "    </button>\n",
              "\n",
              "  <style>\n",
              "    .colab-df-container {\n",
              "      display:flex;\n",
              "      gap: 12px;\n",
              "    }\n",
              "\n",
              "    .colab-df-convert {\n",
              "      background-color: #E8F0FE;\n",
              "      border: none;\n",
              "      border-radius: 50%;\n",
              "      cursor: pointer;\n",
              "      display: none;\n",
              "      fill: #1967D2;\n",
              "      height: 32px;\n",
              "      padding: 0 0 0 0;\n",
              "      width: 32px;\n",
              "    }\n",
              "\n",
              "    .colab-df-convert:hover {\n",
              "      background-color: #E2EBFA;\n",
              "      box-shadow: 0px 1px 2px rgba(60, 64, 67, 0.3), 0px 1px 3px 1px rgba(60, 64, 67, 0.15);\n",
              "      fill: #174EA6;\n",
              "    }\n",
              "\n",
              "    .colab-df-buttons div {\n",
              "      margin-bottom: 4px;\n",
              "    }\n",
              "\n",
              "    [theme=dark] .colab-df-convert {\n",
              "      background-color: #3B4455;\n",
              "      fill: #D2E3FC;\n",
              "    }\n",
              "\n",
              "    [theme=dark] .colab-df-convert:hover {\n",
              "      background-color: #434B5C;\n",
              "      box-shadow: 0px 1px 3px 1px rgba(0, 0, 0, 0.15);\n",
              "      filter: drop-shadow(0px 1px 2px rgba(0, 0, 0, 0.3));\n",
              "      fill: #FFFFFF;\n",
              "    }\n",
              "  </style>\n",
              "\n",
              "    <script>\n",
              "      const buttonEl =\n",
              "        document.querySelector('#df-4deebe35-09ef-4044-9805-a23eba9df180 button.colab-df-convert');\n",
              "      buttonEl.style.display =\n",
              "        google.colab.kernel.accessAllowed ? 'block' : 'none';\n",
              "\n",
              "      async function convertToInteractive(key) {\n",
              "        const element = document.querySelector('#df-4deebe35-09ef-4044-9805-a23eba9df180');\n",
              "        const dataTable =\n",
              "          await google.colab.kernel.invokeFunction('convertToInteractive',\n",
              "                                                    [key], {});\n",
              "        if (!dataTable) return;\n",
              "\n",
              "        const docLinkHtml = 'Like what you see? Visit the ' +\n",
              "          '<a target=\"_blank\" href=https://colab.research.google.com/notebooks/data_table.ipynb>data table notebook</a>'\n",
              "          + ' to learn more about interactive tables.';\n",
              "        element.innerHTML = '';\n",
              "        dataTable['output_type'] = 'display_data';\n",
              "        await google.colab.output.renderOutput(dataTable, element);\n",
              "        const docLink = document.createElement('div');\n",
              "        docLink.innerHTML = docLinkHtml;\n",
              "        element.appendChild(docLink);\n",
              "      }\n",
              "    </script>\n",
              "  </div>\n",
              "\n",
              "\n",
              "    <div id=\"df-e75ab140-80b7-4dc4-8220-c7a813e15c8c\">\n",
              "      <button class=\"colab-df-quickchart\" onclick=\"quickchart('df-e75ab140-80b7-4dc4-8220-c7a813e15c8c')\"\n",
              "                title=\"Suggest charts\"\n",
              "                style=\"display:none;\">\n",
              "\n",
              "<svg xmlns=\"http://www.w3.org/2000/svg\" height=\"24px\"viewBox=\"0 0 24 24\"\n",
              "     width=\"24px\">\n",
              "    <g>\n",
              "        <path d=\"M19 3H5c-1.1 0-2 .9-2 2v14c0 1.1.9 2 2 2h14c1.1 0 2-.9 2-2V5c0-1.1-.9-2-2-2zM9 17H7v-7h2v7zm4 0h-2V7h2v10zm4 0h-2v-4h2v4z\"/>\n",
              "    </g>\n",
              "</svg>\n",
              "      </button>\n",
              "\n",
              "<style>\n",
              "  .colab-df-quickchart {\n",
              "      --bg-color: #E8F0FE;\n",
              "      --fill-color: #1967D2;\n",
              "      --hover-bg-color: #E2EBFA;\n",
              "      --hover-fill-color: #174EA6;\n",
              "      --disabled-fill-color: #AAA;\n",
              "      --disabled-bg-color: #DDD;\n",
              "  }\n",
              "\n",
              "  [theme=dark] .colab-df-quickchart {\n",
              "      --bg-color: #3B4455;\n",
              "      --fill-color: #D2E3FC;\n",
              "      --hover-bg-color: #434B5C;\n",
              "      --hover-fill-color: #FFFFFF;\n",
              "      --disabled-bg-color: #3B4455;\n",
              "      --disabled-fill-color: #666;\n",
              "  }\n",
              "\n",
              "  .colab-df-quickchart {\n",
              "    background-color: var(--bg-color);\n",
              "    border: none;\n",
              "    border-radius: 50%;\n",
              "    cursor: pointer;\n",
              "    display: none;\n",
              "    fill: var(--fill-color);\n",
              "    height: 32px;\n",
              "    padding: 0;\n",
              "    width: 32px;\n",
              "  }\n",
              "\n",
              "  .colab-df-quickchart:hover {\n",
              "    background-color: var(--hover-bg-color);\n",
              "    box-shadow: 0 1px 2px rgba(60, 64, 67, 0.3), 0 1px 3px 1px rgba(60, 64, 67, 0.15);\n",
              "    fill: var(--button-hover-fill-color);\n",
              "  }\n",
              "\n",
              "  .colab-df-quickchart-complete:disabled,\n",
              "  .colab-df-quickchart-complete:disabled:hover {\n",
              "    background-color: var(--disabled-bg-color);\n",
              "    fill: var(--disabled-fill-color);\n",
              "    box-shadow: none;\n",
              "  }\n",
              "\n",
              "  .colab-df-spinner {\n",
              "    border: 2px solid var(--fill-color);\n",
              "    border-color: transparent;\n",
              "    border-bottom-color: var(--fill-color);\n",
              "    animation:\n",
              "      spin 1s steps(1) infinite;\n",
              "  }\n",
              "\n",
              "  @keyframes spin {\n",
              "    0% {\n",
              "      border-color: transparent;\n",
              "      border-bottom-color: var(--fill-color);\n",
              "      border-left-color: var(--fill-color);\n",
              "    }\n",
              "    20% {\n",
              "      border-color: transparent;\n",
              "      border-left-color: var(--fill-color);\n",
              "      border-top-color: var(--fill-color);\n",
              "    }\n",
              "    30% {\n",
              "      border-color: transparent;\n",
              "      border-left-color: var(--fill-color);\n",
              "      border-top-color: var(--fill-color);\n",
              "      border-right-color: var(--fill-color);\n",
              "    }\n",
              "    40% {\n",
              "      border-color: transparent;\n",
              "      border-right-color: var(--fill-color);\n",
              "      border-top-color: var(--fill-color);\n",
              "    }\n",
              "    60% {\n",
              "      border-color: transparent;\n",
              "      border-right-color: var(--fill-color);\n",
              "    }\n",
              "    80% {\n",
              "      border-color: transparent;\n",
              "      border-right-color: var(--fill-color);\n",
              "      border-bottom-color: var(--fill-color);\n",
              "    }\n",
              "    90% {\n",
              "      border-color: transparent;\n",
              "      border-bottom-color: var(--fill-color);\n",
              "    }\n",
              "  }\n",
              "</style>\n",
              "\n",
              "      <script>\n",
              "        async function quickchart(key) {\n",
              "          const quickchartButtonEl =\n",
              "            document.querySelector('#' + key + ' button');\n",
              "          quickchartButtonEl.disabled = true;  // To prevent multiple clicks.\n",
              "          quickchartButtonEl.classList.add('colab-df-spinner');\n",
              "          try {\n",
              "            const charts = await google.colab.kernel.invokeFunction(\n",
              "                'suggestCharts', [key], {});\n",
              "          } catch (error) {\n",
              "            console.error('Error during call to suggestCharts:', error);\n",
              "          }\n",
              "          quickchartButtonEl.classList.remove('colab-df-spinner');\n",
              "          quickchartButtonEl.classList.add('colab-df-quickchart-complete');\n",
              "        }\n",
              "        (() => {\n",
              "          let quickchartButtonEl =\n",
              "            document.querySelector('#df-e75ab140-80b7-4dc4-8220-c7a813e15c8c button');\n",
              "          quickchartButtonEl.style.display =\n",
              "            google.colab.kernel.accessAllowed ? 'block' : 'none';\n",
              "        })();\n",
              "      </script>\n",
              "    </div>\n",
              "\n",
              "  <div id=\"id_f8387c2b-068d-4d9e-96c5-63a96ffbaeb2\">\n",
              "    <style>\n",
              "      .colab-df-generate {\n",
              "        background-color: #E8F0FE;\n",
              "        border: none;\n",
              "        border-radius: 50%;\n",
              "        cursor: pointer;\n",
              "        display: none;\n",
              "        fill: #1967D2;\n",
              "        height: 32px;\n",
              "        padding: 0 0 0 0;\n",
              "        width: 32px;\n",
              "      }\n",
              "\n",
              "      .colab-df-generate:hover {\n",
              "        background-color: #E2EBFA;\n",
              "        box-shadow: 0px 1px 2px rgba(60, 64, 67, 0.3), 0px 1px 3px 1px rgba(60, 64, 67, 0.15);\n",
              "        fill: #174EA6;\n",
              "      }\n",
              "\n",
              "      [theme=dark] .colab-df-generate {\n",
              "        background-color: #3B4455;\n",
              "        fill: #D2E3FC;\n",
              "      }\n",
              "\n",
              "      [theme=dark] .colab-df-generate:hover {\n",
              "        background-color: #434B5C;\n",
              "        box-shadow: 0px 1px 3px 1px rgba(0, 0, 0, 0.15);\n",
              "        filter: drop-shadow(0px 1px 2px rgba(0, 0, 0, 0.3));\n",
              "        fill: #FFFFFF;\n",
              "      }\n",
              "    </style>\n",
              "    <button class=\"colab-df-generate\" onclick=\"generateWithVariable('dataset_versions')\"\n",
              "            title=\"Generate code using this dataframe.\"\n",
              "            style=\"display:none;\">\n",
              "\n",
              "  <svg xmlns=\"http://www.w3.org/2000/svg\" height=\"24px\"viewBox=\"0 0 24 24\"\n",
              "       width=\"24px\">\n",
              "    <path d=\"M7,19H8.4L18.45,9,17,7.55,7,17.6ZM5,21V16.75L18.45,3.32a2,2,0,0,1,2.83,0l1.4,1.43a1.91,1.91,0,0,1,.58,1.4,1.91,1.91,0,0,1-.58,1.4L9.25,21ZM18.45,9,17,7.55Zm-12,3A5.31,5.31,0,0,0,4.9,8.1,5.31,5.31,0,0,0,1,6.5,5.31,5.31,0,0,0,4.9,4.9,5.31,5.31,0,0,0,6.5,1,5.31,5.31,0,0,0,8.1,4.9,5.31,5.31,0,0,0,12,6.5,5.46,5.46,0,0,0,6.5,12Z\"/>\n",
              "  </svg>\n",
              "    </button>\n",
              "    <script>\n",
              "      (() => {\n",
              "      const buttonEl =\n",
              "        document.querySelector('#id_f8387c2b-068d-4d9e-96c5-63a96ffbaeb2 button.colab-df-generate');\n",
              "      buttonEl.style.display =\n",
              "        google.colab.kernel.accessAllowed ? 'block' : 'none';\n",
              "\n",
              "      buttonEl.onclick = () => {\n",
              "        google.colab.notebook.generateWithVariable('dataset_versions');\n",
              "      }\n",
              "      })();\n",
              "    </script>\n",
              "  </div>\n",
              "\n",
              "    </div>\n",
              "  </div>\n"
            ],
            "application/vnd.google.colaboratory.intrinsic+json": {
              "type": "dataframe",
              "variable_name": "dataset_versions",
              "summary": "{\n  \"name\": \"dataset_versions\",\n  \"rows\": 3,\n  \"fields\": [\n    {\n      \"column\": \"Vers\\u00e3o\",\n      \"properties\": {\n        \"dtype\": \"string\",\n        \"num_unique_values\": 3,\n        \"samples\": [\n          \"Original\",\n          \"Padronizada (StandardScaler)\",\n          \"Normalizada (MinMaxScaler)\"\n        ],\n        \"semantic_type\": \"\",\n        \"description\": \"\"\n      }\n    },\n    {\n      \"column\": \"Descri\\u00e7\\u00e3o\",\n      \"properties\": {\n        \"dtype\": \"string\",\n        \"num_unique_values\": 3,\n        \"samples\": [\n          \"Dados brutos, sem escalonamento\",\n          \"M\\u00e9dia = 0, desvio padr\\u00e3o = 1\",\n          \"Escala entre 0 e 1\"\n        ],\n        \"semantic_type\": \"\",\n        \"description\": \"\"\n      }\n    },\n    {\n      \"column\": \"Vari\\u00e1veis\",\n      \"properties\": {\n        \"dtype\": \"number\",\n        \"std\": 0,\n        \"min\": 19330,\n        \"max\": 19330,\n        \"num_unique_values\": 1,\n        \"samples\": [\n          19330\n        ],\n        \"semantic_type\": \"\",\n        \"description\": \"\"\n      }\n    },\n    {\n      \"column\": \"Observa\\u00e7\\u00f5es (Treino)\",\n      \"properties\": {\n        \"dtype\": \"number\",\n        \"std\": 0,\n        \"min\": 7092,\n        \"max\": 7092,\n        \"num_unique_values\": 1,\n        \"samples\": [\n          7092\n        ],\n        \"semantic_type\": \"\",\n        \"description\": \"\"\n      }\n    }\n  ]\n}"
            }
          },
          "metadata": {}
        }
      ],
      "source": [
        "# Criando visões diferentes do dataset\n",
        "scaler_std = StandardScaler()\n",
        "X_train_std = scaler_std.fit_transform(X_train)\n",
        "X_val_std = scaler_std.transform(X_val)\n",
        "X_test_std = scaler_std.transform(X_test)\n",
        "\n",
        "scaler_minmax = MinMaxScaler()\n",
        "X_train_mm = scaler_minmax.fit_transform(X_train)\n",
        "X_val_mm = scaler_minmax.transform(X_val)\n",
        "X_test_mm = scaler_minmax.transform(X_test)\n",
        "\n",
        "# Criar tabela descritiva das versões disponíveis\n",
        "dataset_versions = pd.DataFrame({\n",
        "    \"Versão\": [\"Original\", \"Padronizada (StandardScaler)\", \"Normalizada (MinMaxScaler)\"],\n",
        "    \"Descrição\": [\n",
        "        \"Dados brutos, sem escalonamento\",\n",
        "        \"Média = 0, desvio padrão = 1\",\n",
        "        \"Escala entre 0 e 1\"\n",
        "    ],\n",
        "    \"Variáveis\": [X_train.shape[1]] * 3,\n",
        "    \"Observações (Treino)\": [X_train.shape[0]] * 3\n",
        "})\n",
        "\n",
        "print(\"📋 Visões disponíveis do dataset:\")\n",
        "display(dataset_versions)\n"
      ]
    },
    {
      "cell_type": "code",
      "execution_count": 8,
      "metadata": {
        "id": "XTzT8Wj83obm",
        "colab": {
          "base_uri": "https://localhost:8080/",
          "height": 381
        },
        "outputId": "5d453295-fdff-4535-eff8-7a12e4eb50c0"
      },
      "outputs": [
        {
          "output_type": "stream",
          "name": "stdout",
          "text": [
            "📋 Atributos selecionados por relevância (ANOVA F):\n"
          ]
        },
        {
          "output_type": "display_data",
          "data": {
            "text/plain": [
              "   Rank     Atributo Selecionado  Score (ANOVA F)\n",
              "0     4       qtd_transacoes_12m      1135.122804\n",
              "1     2            iteracoes_12m       313.056009\n",
              "2     1             qtd_produtos       182.805307\n",
              "3     3        meses_inativo_12m       177.003690\n",
              "4     6  limite_credito_1.438,26        20.188320\n",
              "5     5  limite_credito_1.438,04        15.700057\n",
              "6     8  limite_credito_1.438,54        15.700057\n",
              "7     7  limite_credito_1.438,45        15.184537\n",
              "8     9  limite_credito_1.438,72        12.815210\n",
              "9    10  limite_credito_3.952,32        10.457507"
            ],
            "text/html": [
              "\n",
              "  <div id=\"df-20ebb769-281c-4a77-90bc-f28a66f93b08\" class=\"colab-df-container\">\n",
              "    <div>\n",
              "<style scoped>\n",
              "    .dataframe tbody tr th:only-of-type {\n",
              "        vertical-align: middle;\n",
              "    }\n",
              "\n",
              "    .dataframe tbody tr th {\n",
              "        vertical-align: top;\n",
              "    }\n",
              "\n",
              "    .dataframe thead th {\n",
              "        text-align: right;\n",
              "    }\n",
              "</style>\n",
              "<table border=\"1\" class=\"dataframe\">\n",
              "  <thead>\n",
              "    <tr style=\"text-align: right;\">\n",
              "      <th></th>\n",
              "      <th>Rank</th>\n",
              "      <th>Atributo Selecionado</th>\n",
              "      <th>Score (ANOVA F)</th>\n",
              "    </tr>\n",
              "  </thead>\n",
              "  <tbody>\n",
              "    <tr>\n",
              "      <th>0</th>\n",
              "      <td>4</td>\n",
              "      <td>qtd_transacoes_12m</td>\n",
              "      <td>1135.122804</td>\n",
              "    </tr>\n",
              "    <tr>\n",
              "      <th>1</th>\n",
              "      <td>2</td>\n",
              "      <td>iteracoes_12m</td>\n",
              "      <td>313.056009</td>\n",
              "    </tr>\n",
              "    <tr>\n",
              "      <th>2</th>\n",
              "      <td>1</td>\n",
              "      <td>qtd_produtos</td>\n",
              "      <td>182.805307</td>\n",
              "    </tr>\n",
              "    <tr>\n",
              "      <th>3</th>\n",
              "      <td>3</td>\n",
              "      <td>meses_inativo_12m</td>\n",
              "      <td>177.003690</td>\n",
              "    </tr>\n",
              "    <tr>\n",
              "      <th>4</th>\n",
              "      <td>6</td>\n",
              "      <td>limite_credito_1.438,26</td>\n",
              "      <td>20.188320</td>\n",
              "    </tr>\n",
              "    <tr>\n",
              "      <th>5</th>\n",
              "      <td>5</td>\n",
              "      <td>limite_credito_1.438,04</td>\n",
              "      <td>15.700057</td>\n",
              "    </tr>\n",
              "    <tr>\n",
              "      <th>6</th>\n",
              "      <td>8</td>\n",
              "      <td>limite_credito_1.438,54</td>\n",
              "      <td>15.700057</td>\n",
              "    </tr>\n",
              "    <tr>\n",
              "      <th>7</th>\n",
              "      <td>7</td>\n",
              "      <td>limite_credito_1.438,45</td>\n",
              "      <td>15.184537</td>\n",
              "    </tr>\n",
              "    <tr>\n",
              "      <th>8</th>\n",
              "      <td>9</td>\n",
              "      <td>limite_credito_1.438,72</td>\n",
              "      <td>12.815210</td>\n",
              "    </tr>\n",
              "    <tr>\n",
              "      <th>9</th>\n",
              "      <td>10</td>\n",
              "      <td>limite_credito_3.952,32</td>\n",
              "      <td>10.457507</td>\n",
              "    </tr>\n",
              "  </tbody>\n",
              "</table>\n",
              "</div>\n",
              "    <div class=\"colab-df-buttons\">\n",
              "\n",
              "  <div class=\"colab-df-container\">\n",
              "    <button class=\"colab-df-convert\" onclick=\"convertToInteractive('df-20ebb769-281c-4a77-90bc-f28a66f93b08')\"\n",
              "            title=\"Convert this dataframe to an interactive table.\"\n",
              "            style=\"display:none;\">\n",
              "\n",
              "  <svg xmlns=\"http://www.w3.org/2000/svg\" height=\"24px\" viewBox=\"0 -960 960 960\">\n",
              "    <path d=\"M120-120v-720h720v720H120Zm60-500h600v-160H180v160Zm220 220h160v-160H400v160Zm0 220h160v-160H400v160ZM180-400h160v-160H180v160Zm440 0h160v-160H620v160ZM180-180h160v-160H180v160Zm440 0h160v-160H620v160Z\"/>\n",
              "  </svg>\n",
              "    </button>\n",
              "\n",
              "  <style>\n",
              "    .colab-df-container {\n",
              "      display:flex;\n",
              "      gap: 12px;\n",
              "    }\n",
              "\n",
              "    .colab-df-convert {\n",
              "      background-color: #E8F0FE;\n",
              "      border: none;\n",
              "      border-radius: 50%;\n",
              "      cursor: pointer;\n",
              "      display: none;\n",
              "      fill: #1967D2;\n",
              "      height: 32px;\n",
              "      padding: 0 0 0 0;\n",
              "      width: 32px;\n",
              "    }\n",
              "\n",
              "    .colab-df-convert:hover {\n",
              "      background-color: #E2EBFA;\n",
              "      box-shadow: 0px 1px 2px rgba(60, 64, 67, 0.3), 0px 1px 3px 1px rgba(60, 64, 67, 0.15);\n",
              "      fill: #174EA6;\n",
              "    }\n",
              "\n",
              "    .colab-df-buttons div {\n",
              "      margin-bottom: 4px;\n",
              "    }\n",
              "\n",
              "    [theme=dark] .colab-df-convert {\n",
              "      background-color: #3B4455;\n",
              "      fill: #D2E3FC;\n",
              "    }\n",
              "\n",
              "    [theme=dark] .colab-df-convert:hover {\n",
              "      background-color: #434B5C;\n",
              "      box-shadow: 0px 1px 3px 1px rgba(0, 0, 0, 0.15);\n",
              "      filter: drop-shadow(0px 1px 2px rgba(0, 0, 0, 0.3));\n",
              "      fill: #FFFFFF;\n",
              "    }\n",
              "  </style>\n",
              "\n",
              "    <script>\n",
              "      const buttonEl =\n",
              "        document.querySelector('#df-20ebb769-281c-4a77-90bc-f28a66f93b08 button.colab-df-convert');\n",
              "      buttonEl.style.display =\n",
              "        google.colab.kernel.accessAllowed ? 'block' : 'none';\n",
              "\n",
              "      async function convertToInteractive(key) {\n",
              "        const element = document.querySelector('#df-20ebb769-281c-4a77-90bc-f28a66f93b08');\n",
              "        const dataTable =\n",
              "          await google.colab.kernel.invokeFunction('convertToInteractive',\n",
              "                                                    [key], {});\n",
              "        if (!dataTable) return;\n",
              "\n",
              "        const docLinkHtml = 'Like what you see? Visit the ' +\n",
              "          '<a target=\"_blank\" href=https://colab.research.google.com/notebooks/data_table.ipynb>data table notebook</a>'\n",
              "          + ' to learn more about interactive tables.';\n",
              "        element.innerHTML = '';\n",
              "        dataTable['output_type'] = 'display_data';\n",
              "        await google.colab.output.renderOutput(dataTable, element);\n",
              "        const docLink = document.createElement('div');\n",
              "        docLink.innerHTML = docLinkHtml;\n",
              "        element.appendChild(docLink);\n",
              "      }\n",
              "    </script>\n",
              "  </div>\n",
              "\n",
              "\n",
              "    <div id=\"df-b14ea93e-9648-4810-a019-cd26b25d1c51\">\n",
              "      <button class=\"colab-df-quickchart\" onclick=\"quickchart('df-b14ea93e-9648-4810-a019-cd26b25d1c51')\"\n",
              "                title=\"Suggest charts\"\n",
              "                style=\"display:none;\">\n",
              "\n",
              "<svg xmlns=\"http://www.w3.org/2000/svg\" height=\"24px\"viewBox=\"0 0 24 24\"\n",
              "     width=\"24px\">\n",
              "    <g>\n",
              "        <path d=\"M19 3H5c-1.1 0-2 .9-2 2v14c0 1.1.9 2 2 2h14c1.1 0 2-.9 2-2V5c0-1.1-.9-2-2-2zM9 17H7v-7h2v7zm4 0h-2V7h2v10zm4 0h-2v-4h2v4z\"/>\n",
              "    </g>\n",
              "</svg>\n",
              "      </button>\n",
              "\n",
              "<style>\n",
              "  .colab-df-quickchart {\n",
              "      --bg-color: #E8F0FE;\n",
              "      --fill-color: #1967D2;\n",
              "      --hover-bg-color: #E2EBFA;\n",
              "      --hover-fill-color: #174EA6;\n",
              "      --disabled-fill-color: #AAA;\n",
              "      --disabled-bg-color: #DDD;\n",
              "  }\n",
              "\n",
              "  [theme=dark] .colab-df-quickchart {\n",
              "      --bg-color: #3B4455;\n",
              "      --fill-color: #D2E3FC;\n",
              "      --hover-bg-color: #434B5C;\n",
              "      --hover-fill-color: #FFFFFF;\n",
              "      --disabled-bg-color: #3B4455;\n",
              "      --disabled-fill-color: #666;\n",
              "  }\n",
              "\n",
              "  .colab-df-quickchart {\n",
              "    background-color: var(--bg-color);\n",
              "    border: none;\n",
              "    border-radius: 50%;\n",
              "    cursor: pointer;\n",
              "    display: none;\n",
              "    fill: var(--fill-color);\n",
              "    height: 32px;\n",
              "    padding: 0;\n",
              "    width: 32px;\n",
              "  }\n",
              "\n",
              "  .colab-df-quickchart:hover {\n",
              "    background-color: var(--hover-bg-color);\n",
              "    box-shadow: 0 1px 2px rgba(60, 64, 67, 0.3), 0 1px 3px 1px rgba(60, 64, 67, 0.15);\n",
              "    fill: var(--button-hover-fill-color);\n",
              "  }\n",
              "\n",
              "  .colab-df-quickchart-complete:disabled,\n",
              "  .colab-df-quickchart-complete:disabled:hover {\n",
              "    background-color: var(--disabled-bg-color);\n",
              "    fill: var(--disabled-fill-color);\n",
              "    box-shadow: none;\n",
              "  }\n",
              "\n",
              "  .colab-df-spinner {\n",
              "    border: 2px solid var(--fill-color);\n",
              "    border-color: transparent;\n",
              "    border-bottom-color: var(--fill-color);\n",
              "    animation:\n",
              "      spin 1s steps(1) infinite;\n",
              "  }\n",
              "\n",
              "  @keyframes spin {\n",
              "    0% {\n",
              "      border-color: transparent;\n",
              "      border-bottom-color: var(--fill-color);\n",
              "      border-left-color: var(--fill-color);\n",
              "    }\n",
              "    20% {\n",
              "      border-color: transparent;\n",
              "      border-left-color: var(--fill-color);\n",
              "      border-top-color: var(--fill-color);\n",
              "    }\n",
              "    30% {\n",
              "      border-color: transparent;\n",
              "      border-left-color: var(--fill-color);\n",
              "      border-top-color: var(--fill-color);\n",
              "      border-right-color: var(--fill-color);\n",
              "    }\n",
              "    40% {\n",
              "      border-color: transparent;\n",
              "      border-right-color: var(--fill-color);\n",
              "      border-top-color: var(--fill-color);\n",
              "    }\n",
              "    60% {\n",
              "      border-color: transparent;\n",
              "      border-right-color: var(--fill-color);\n",
              "    }\n",
              "    80% {\n",
              "      border-color: transparent;\n",
              "      border-right-color: var(--fill-color);\n",
              "      border-bottom-color: var(--fill-color);\n",
              "    }\n",
              "    90% {\n",
              "      border-color: transparent;\n",
              "      border-bottom-color: var(--fill-color);\n",
              "    }\n",
              "  }\n",
              "</style>\n",
              "\n",
              "      <script>\n",
              "        async function quickchart(key) {\n",
              "          const quickchartButtonEl =\n",
              "            document.querySelector('#' + key + ' button');\n",
              "          quickchartButtonEl.disabled = true;  // To prevent multiple clicks.\n",
              "          quickchartButtonEl.classList.add('colab-df-spinner');\n",
              "          try {\n",
              "            const charts = await google.colab.kernel.invokeFunction(\n",
              "                'suggestCharts', [key], {});\n",
              "          } catch (error) {\n",
              "            console.error('Error during call to suggestCharts:', error);\n",
              "          }\n",
              "          quickchartButtonEl.classList.remove('colab-df-spinner');\n",
              "          quickchartButtonEl.classList.add('colab-df-quickchart-complete');\n",
              "        }\n",
              "        (() => {\n",
              "          let quickchartButtonEl =\n",
              "            document.querySelector('#df-b14ea93e-9648-4810-a019-cd26b25d1c51 button');\n",
              "          quickchartButtonEl.style.display =\n",
              "            google.colab.kernel.accessAllowed ? 'block' : 'none';\n",
              "        })();\n",
              "      </script>\n",
              "    </div>\n",
              "\n",
              "  <div id=\"id_ddf83bf1-7f1e-46db-83b5-678bcabb1ef6\">\n",
              "    <style>\n",
              "      .colab-df-generate {\n",
              "        background-color: #E8F0FE;\n",
              "        border: none;\n",
              "        border-radius: 50%;\n",
              "        cursor: pointer;\n",
              "        display: none;\n",
              "        fill: #1967D2;\n",
              "        height: 32px;\n",
              "        padding: 0 0 0 0;\n",
              "        width: 32px;\n",
              "      }\n",
              "\n",
              "      .colab-df-generate:hover {\n",
              "        background-color: #E2EBFA;\n",
              "        box-shadow: 0px 1px 2px rgba(60, 64, 67, 0.3), 0px 1px 3px 1px rgba(60, 64, 67, 0.15);\n",
              "        fill: #174EA6;\n",
              "      }\n",
              "\n",
              "      [theme=dark] .colab-df-generate {\n",
              "        background-color: #3B4455;\n",
              "        fill: #D2E3FC;\n",
              "      }\n",
              "\n",
              "      [theme=dark] .colab-df-generate:hover {\n",
              "        background-color: #434B5C;\n",
              "        box-shadow: 0px 1px 3px 1px rgba(0, 0, 0, 0.15);\n",
              "        filter: drop-shadow(0px 1px 2px rgba(0, 0, 0, 0.3));\n",
              "        fill: #FFFFFF;\n",
              "      }\n",
              "    </style>\n",
              "    <button class=\"colab-df-generate\" onclick=\"generateWithVariable('feature_table')\"\n",
              "            title=\"Generate code using this dataframe.\"\n",
              "            style=\"display:none;\">\n",
              "\n",
              "  <svg xmlns=\"http://www.w3.org/2000/svg\" height=\"24px\"viewBox=\"0 0 24 24\"\n",
              "       width=\"24px\">\n",
              "    <path d=\"M7,19H8.4L18.45,9,17,7.55,7,17.6ZM5,21V16.75L18.45,3.32a2,2,0,0,1,2.83,0l1.4,1.43a1.91,1.91,0,0,1,.58,1.4,1.91,1.91,0,0,1-.58,1.4L9.25,21ZM18.45,9,17,7.55Zm-12,3A5.31,5.31,0,0,0,4.9,8.1,5.31,5.31,0,0,0,1,6.5,5.31,5.31,0,0,0,4.9,4.9,5.31,5.31,0,0,0,6.5,1,5.31,5.31,0,0,0,8.1,4.9,5.31,5.31,0,0,0,12,6.5,5.46,5.46,0,0,0,6.5,12Z\"/>\n",
              "  </svg>\n",
              "    </button>\n",
              "    <script>\n",
              "      (() => {\n",
              "      const buttonEl =\n",
              "        document.querySelector('#id_ddf83bf1-7f1e-46db-83b5-678bcabb1ef6 button.colab-df-generate');\n",
              "      buttonEl.style.display =\n",
              "        google.colab.kernel.accessAllowed ? 'block' : 'none';\n",
              "\n",
              "      buttonEl.onclick = () => {\n",
              "        google.colab.notebook.generateWithVariable('feature_table');\n",
              "      }\n",
              "      })();\n",
              "    </script>\n",
              "  </div>\n",
              "\n",
              "    </div>\n",
              "  </div>\n"
            ],
            "application/vnd.google.colaboratory.intrinsic+json": {
              "type": "dataframe",
              "variable_name": "feature_table",
              "summary": "{\n  \"name\": \"feature_table\",\n  \"rows\": 10,\n  \"fields\": [\n    {\n      \"column\": \"Rank\",\n      \"properties\": {\n        \"dtype\": \"number\",\n        \"std\": 3,\n        \"min\": 1,\n        \"max\": 10,\n        \"num_unique_values\": 10,\n        \"samples\": [\n          9,\n          2,\n          5\n        ],\n        \"semantic_type\": \"\",\n        \"description\": \"\"\n      }\n    },\n    {\n      \"column\": \"Atributo Selecionado\",\n      \"properties\": {\n        \"dtype\": \"string\",\n        \"num_unique_values\": 10,\n        \"samples\": [\n          \"limite_credito_1.438,72\",\n          \"iteracoes_12m\",\n          \"limite_credito_1.438,04\"\n        ],\n        \"semantic_type\": \"\",\n        \"description\": \"\"\n      }\n    },\n    {\n      \"column\": \"Score (ANOVA F)\",\n      \"properties\": {\n        \"dtype\": \"number\",\n        \"std\": 348.39433701592344,\n        \"min\": 10.457507010548145,\n        \"max\": 1135.1228041112047,\n        \"num_unique_values\": 10,\n        \"samples\": [\n          12.815210491372373,\n          313.0560088951535,\n          15.70005669921396\n        ],\n        \"semantic_type\": \"\",\n        \"description\": \"\"\n      }\n    }\n  ]\n}"
            }
          },
          "metadata": {}
        }
      ],
      "source": [
        "# Selecionar as 10 variáveis mais relevantes segundo teste ANOVA F\n",
        "selector = SelectKBest(score_func=f_classif, k=10)\n",
        "X_train_fs = selector.fit_transform(X_train_std, y_train)\n",
        "X_val_fs = selector.transform(X_val_std)\n",
        "X_test_fs = selector.transform(X_test_std)\n",
        "\n",
        "# Obter nomes das colunas selecionadas e os respectivos scores\n",
        "mask = selector.get_support()\n",
        "selected_feature_names = X_train.columns[mask]\n",
        "scores = selector.scores_[mask]\n",
        "\n",
        "# Criar DataFrame com os resultados\n",
        "feature_table = pd.DataFrame({\n",
        "    \"Rank\": range(1, len(selected_feature_names) + 1),\n",
        "    \"Atributo Selecionado\": selected_feature_names,\n",
        "    \"Score (ANOVA F)\": scores\n",
        "}).sort_values(by=\"Score (ANOVA F)\", ascending=False).reset_index(drop=True)\n",
        "\n",
        "# Exibir como tabela\n",
        "print(\"📋 Atributos selecionados por relevância (ANOVA F):\")\n",
        "display(feature_table)\n"
      ]
    },
    {
      "cell_type": "markdown",
      "source": [
        "## Feature Selection (Seleção de Atributos)"
      ],
      "metadata": {
        "id": "Di6RMi5A1-W0"
      }
    },
    {
      "cell_type": "code",
      "source": [
        "# Garantir que todas as variáveis sejam numéricas\n",
        "X_encoded = X.copy()\n",
        "\n",
        "for col in X_encoded.select_dtypes(include=['object']).columns:\n",
        "    le = LabelEncoder()\n",
        "    X_encoded[col] = le.fit_transform(X_encoded[col])\n",
        "\n",
        "# Aplicar SelectKBest em cima do dataset numérico\n",
        "selector = SelectKBest(score_func=f_classif, k=5)\n",
        "X_new = selector.fit_transform(X_encoded, y)\n",
        "\n",
        "# Mostrar as features selecionadas\n",
        "mask = selector.get_support()\n",
        "selected_features = X_encoded.columns[mask]\n",
        "\n",
        "print(\"Atributos selecionados:\")\n",
        "print(list(selected_features))\n",
        "\n",
        "# Atualizar X para conter apenas os atributos selecionados\n",
        "X = pd.DataFrame(X_new, columns=selected_features)\n"
      ],
      "metadata": {
        "colab": {
          "base_uri": "https://localhost:8080/"
        },
        "id": "FFCwV_Fj0PnM",
        "outputId": "296de857-267b-4f33-c684-6f4ef98cdec4"
      },
      "execution_count": 11,
      "outputs": [
        {
          "output_type": "stream",
          "name": "stdout",
          "text": [
            "Atributos selecionados:\n",
            "['qtd_produtos', 'iteracoes_12m', 'meses_inativo_12m', 'limite_credito', 'qtd_transacoes_12m']\n"
          ]
        }
      ]
    },
    {
      "cell_type": "markdown",
      "metadata": {
        "id": "beCH0lqtVqX5"
      },
      "source": [
        "#Modelagem e treinamento:\n",
        "\n",
        "#Objetivo: construir modelos para resolver o problema em questão."
      ]
    },
    {
      "cell_type": "markdown",
      "metadata": {
        "id": "G3VLleoZVtk2"
      },
      "source": [
        "* Selecione os algoritmos mais indicados para o problema e dataset escolhidos, justificando as suas escolhas.\n",
        "* Há algum ajuste inicial para os hiperparâmetros?\n",
        "* O modelo foi devidamente treinado? Foi observado problema de underfitting?\n",
        "* É possível otimizar os hiperparâmetros de algum dos modelos? Se sim, faça-o, justificando todas as escolhas.\n",
        "* Há algum método avançado ou mais complexo que possa ser avaliado?\n",
        "* Posso criar um comitê de modelos diferentes para o problema (ensembles)?"
      ]
    },
    {
      "cell_type": "markdown",
      "source": [
        "# Justificativa:\n",
        "# - Regressão Logística: baseline, simples e interpretável.\n",
        "# - Decision Tree: fácil interpretação, captura relações não-lineares.\n",
        "# - Random Forest: robusto, reduz overfitting e lida bem com variáveis mistas.\n",
        "# - Gradient Boosting (XGBoost/GBM): ótimo desempenho em tabulares.\n",
        "# - SVM: útil em problemas com fronteiras complexas (apesar de mais pesado).\n"
      ],
      "metadata": {
        "id": "Tcb1h3Yr2PcC"
      }
    },
    {
      "cell_type": "markdown",
      "source": [
        "#Instanciação de múltiplos modelos para comparação"
      ],
      "metadata": {
        "id": "E1f8jVXlDMkT"
      }
    },
    {
      "cell_type": "code",
      "execution_count": 12,
      "metadata": {
        "id": "mUWrgP5q33iX",
        "colab": {
          "base_uri": "https://localhost:8080/"
        },
        "outputId": "75b5f5d5-2536-468c-b452-6a863792cf3b"
      },
      "outputs": [
        {
          "output_type": "stream",
          "name": "stdout",
          "text": [
            "✅ Modelos instanciados com sucesso!\n"
          ]
        }
      ],
      "source": [
        "\n",
        "models = {\n",
        "    \"LogisticRegression\": LogisticRegression(max_iter=1000, random_state=SEED),\n",
        "    \"DecisionTree\": DecisionTreeClassifier(random_state=SEED),\n",
        "    \"RandomForest\": RandomForestClassifier(random_state=SEED),\n",
        "    \"GradientBoosting\": GradientBoostingClassifier(random_state=SEED),\n",
        "    \"SVM\": SVC(random_state=SEED)\n",
        "}\n",
        "\n",
        "print(\"✅ Modelos instanciados com sucesso!\")\n"
      ]
    },
    {
      "cell_type": "markdown",
      "source": [
        "Confirmando que todos os modelos foram criados corretamente e estão prontos para o treinamento."
      ],
      "metadata": {
        "id": "2_Vl01y1AStx"
      }
    },
    {
      "cell_type": "markdown",
      "source": [
        "#Instanciação de modelos com hiperparâmetros ajustados"
      ],
      "metadata": {
        "id": "r9pXJZW8DVwu"
      }
    },
    {
      "cell_type": "code",
      "execution_count": 13,
      "metadata": {
        "id": "VW9koIlN38-h",
        "colab": {
          "base_uri": "https://localhost:8080/"
        },
        "outputId": "8fd7e060-db3e-4844-bfa8-bb65071d7caf"
      },
      "outputs": [
        {
          "output_type": "stream",
          "name": "stdout",
          "text": [
            "✅ Modelos ajustados (tuned) instanciados com sucesso!\n"
          ]
        }
      ],
      "source": [
        "# Exemplo de ajustes simples:\n",
        "models_tuned = {\n",
        "    \"LogisticRegression\": LogisticRegression(max_iter=1000, C=1.0, solver=\"lbfgs\", random_state=SEED),\n",
        "    \"DecisionTree\": DecisionTreeClassifier(max_depth=5, min_samples_split=20, random_state=SEED),\n",
        "    \"RandomForest\": RandomForestClassifier(n_estimators=100, max_depth=10, random_state=SEED),\n",
        "    \"GradientBoosting\": GradientBoostingClassifier(n_estimators=100, learning_rate=0.1, max_depth=3, random_state=SEED),\n",
        "    \"SVM\": SVC(kernel=\"rbf\", C=1.0, gamma=\"scale\", probability=True, random_state=SEED)\n",
        "}\n",
        "\n",
        "print(\"✅ Modelos ajustados (tuned) instanciados com sucesso!\")\n"
      ]
    },
    {
      "cell_type": "markdown",
      "source": [
        "Ajustando os modelos"
      ],
      "metadata": {
        "id": "Sgm-hZPcAZbb"
      }
    },
    {
      "cell_type": "code",
      "execution_count": 14,
      "metadata": {
        "id": "7OMEnIeo3-13",
        "colab": {
          "base_uri": "https://localhost:8080/"
        },
        "outputId": "441d8fa2-05da-4cab-f517-9054d43bdf5c"
      },
      "outputs": [
        {
          "output_type": "stream",
          "name": "stdout",
          "text": [
            "🚀 Iniciando treinamento e avaliação dos modelos...\n"
          ]
        },
        {
          "output_type": "stream",
          "name": "stderr",
          "text": [
            "Treinando modelos:  25%|██▌       | 1/4 [00:05<00:15,  5.07s/it]"
          ]
        },
        {
          "output_type": "stream",
          "name": "stdout",
          "text": [
            "✅ LogisticRegression - Acurácia validação: 0.8403\n"
          ]
        },
        {
          "output_type": "stream",
          "name": "stderr",
          "text": [
            "\rTreinando modelos:  50%|█████     | 2/4 [00:06<00:06,  3.11s/it]"
          ]
        },
        {
          "output_type": "stream",
          "name": "stdout",
          "text": [
            "✅ DecisionTree - Acurácia validação: 0.8990\n"
          ]
        },
        {
          "output_type": "stream",
          "name": "stderr",
          "text": [
            "\rTreinando modelos:  75%|███████▌  | 3/4 [00:09<00:03,  3.09s/it]"
          ]
        },
        {
          "output_type": "stream",
          "name": "stdout",
          "text": [
            "✅ RandomForest - Acurácia validação: 0.8396\n"
          ]
        },
        {
          "output_type": "stream",
          "name": "stderr",
          "text": [
            "Treinando modelos: 100%|██████████| 4/4 [02:09<00:00, 32.47s/it]"
          ]
        },
        {
          "output_type": "stream",
          "name": "stdout",
          "text": [
            "✅ GradientBoosting - Acurácia validação: 0.9096\n",
            "🏁 Avaliação finalizada com sucesso!\n"
          ]
        },
        {
          "output_type": "stream",
          "name": "stderr",
          "text": [
            "\n"
          ]
        }
      ],
      "source": [
        "# Ajustar modelos para acelerar (sem o SVM)\n",
        "models_tuned_fast = {\n",
        "    \"LogisticRegression\": LogisticRegression(max_iter=1000, C=1.0, solver=\"lbfgs\", random_state=SEED),\n",
        "    \"DecisionTree\": DecisionTreeClassifier(max_depth=5, min_samples_split=20, random_state=SEED),\n",
        "    \"RandomForest\": RandomForestClassifier(n_estimators=100, max_depth=10, random_state=SEED, n_jobs=-1),\n",
        "    \"GradientBoosting\": GradientBoostingClassifier(n_estimators=100, learning_rate=0.1, max_depth=3, random_state=SEED)\n",
        "    # \"SVM\": SVC(...)  # Removido para acelerar execução\n",
        "}\n",
        "\n",
        "print(\"🚀 Iniciando treinamento e avaliação dos modelos...\")\n",
        "\n",
        "for name, model in tqdm(models_tuned_fast.items(), desc=\"Treinando modelos\"):\n",
        "    model.fit(X_train_std, y_train)\n",
        "    y_pred = model.predict(X_val_std)\n",
        "    acc = accuracy_score(y_val, y_pred)\n",
        "    print(f\"✅ {name} - Acurácia validação: {acc:.4f}\")\n",
        "\n",
        "print(\"🏁 Avaliação finalizada com sucesso!\")\n"
      ]
    },
    {
      "cell_type": "markdown",
      "source": [
        "Acelerando os modelos sem o SVM, para termos um treinamentos de modelos mais rapidos"
      ],
      "metadata": {
        "id": "q-_GJz8kAc8s"
      }
    },
    {
      "cell_type": "markdown",
      "source": [
        "#Ajuste rápido de hiperparâmetros para Random Forest"
      ],
      "metadata": {
        "id": "SV2LkK_EC5o8"
      }
    },
    {
      "cell_type": "code",
      "source": [
        "# 🔧 Reduzindo a busca para acelerar\n",
        "param_dist = {\n",
        "    \"n_estimators\": [50, 100],         # menor número de árvores\n",
        "    \"max_depth\": [5, 10],              # menos profundidade\n",
        "    \"min_samples_split\": [2, 5]        # menos variações\n",
        "}\n",
        "\n",
        "random_rf = RandomizedSearchCV(\n",
        "    estimator=RandomForestClassifier(random_state=SEED),\n",
        "    param_distributions=param_dist,\n",
        "    n_iter=3,               # ✅ Testa apenas 3 combinações aleatórias\n",
        "    cv=2,                   # ✅ Faz validação cruzada com apenas 2 folds\n",
        "    scoring=\"accuracy\",\n",
        "    n_jobs=-1,\n",
        "    random_state=SEED\n",
        ")\n",
        "\n",
        "print(\"🔍 Iniciando RandomizedSearchCV (versão rápida)...\")\n",
        "random_rf.fit(X_train_std, y_train)\n",
        "\n",
        "# Resultados\n",
        "print(\"✅ RandomizedSearch finalizado com sucesso!\")\n",
        "print(\"Melhores hiperparâmetros RF:\", random_rf.best_params_)\n",
        "print(\"Melhor score de validação (média de 2 folds):\", round(random_rf.best_score_, 4))\n"
      ],
      "metadata": {
        "colab": {
          "base_uri": "https://localhost:8080/"
        },
        "id": "qaRdpzCnaCUm",
        "outputId": "cf549020-c710-4014-b1fb-fecddb2f0183"
      },
      "execution_count": 15,
      "outputs": [
        {
          "output_type": "stream",
          "name": "stdout",
          "text": [
            "🔍 Iniciando RandomizedSearchCV (versão rápida)...\n",
            "✅ RandomizedSearch finalizado com sucesso!\n",
            "Melhores hiperparâmetros RF: {'n_estimators': 100, 'min_samples_split': 2, 'max_depth': 5}\n",
            "Melhor score de validação (média de 2 folds): 0.8393\n"
          ]
        }
      ]
    },
    {
      "cell_type": "markdown",
      "source": [
        "Realizando uma busca aleatória leve (RandomizedSearchCV) para encontrar os melhores hiperparâmetros do modelo Random Forest, com apenas 3 combinações e 2 folds de validação."
      ],
      "metadata": {
        "id": "ZBdjHqVzBAeZ"
      }
    },
    {
      "cell_type": "markdown",
      "source": [
        "#Visualização dos resultados da busca de hiperparâmetros (Random Forest)"
      ],
      "metadata": {
        "id": "z-LKxQwSC0pK"
      }
    },
    {
      "cell_type": "code",
      "execution_count": 16,
      "metadata": {
        "id": "bb9IGq2I4CTm",
        "colab": {
          "base_uri": "https://localhost:8080/",
          "height": 161
        },
        "outputId": "ef9b6fa9-71b8-4aa0-8b76-984caa88a596"
      },
      "outputs": [
        {
          "output_type": "stream",
          "name": "stdout",
          "text": [
            "📊 Resultados do RandomizedSearch para RandomForest:\n"
          ]
        },
        {
          "output_type": "display_data",
          "data": {
            "text/plain": [
              "<pandas.io.formats.style.Styler at 0x789931301c70>"
            ],
            "text/html": [
              "<style type=\"text/css\">\n",
              "#T_11a47_row0_col5, #T_11a47_row1_col5, #T_11a47_row2_col5 {\n",
              "  background-color: mediumseagreen;\n",
              "}\n",
              "</style>\n",
              "<table id=\"T_11a47\" class=\"dataframe\">\n",
              "  <thead>\n",
              "    <tr>\n",
              "      <th class=\"blank level0\" >&nbsp;</th>\n",
              "      <th id=\"T_11a47_level0_col0\" class=\"col_heading level0 col0\" >param_n_estimators</th>\n",
              "      <th id=\"T_11a47_level0_col1\" class=\"col_heading level0 col1\" >param_max_depth</th>\n",
              "      <th id=\"T_11a47_level0_col2\" class=\"col_heading level0 col2\" >param_min_samples_split</th>\n",
              "      <th id=\"T_11a47_level0_col3\" class=\"col_heading level0 col3\" >mean_test_score</th>\n",
              "      <th id=\"T_11a47_level0_col4\" class=\"col_heading level0 col4\" >std_test_score</th>\n",
              "      <th id=\"T_11a47_level0_col5\" class=\"col_heading level0 col5\" >rank_test_score</th>\n",
              "    </tr>\n",
              "  </thead>\n",
              "  <tbody>\n",
              "    <tr>\n",
              "      <th id=\"T_11a47_level0_row0\" class=\"row_heading level0 row0\" >0</th>\n",
              "      <td id=\"T_11a47_row0_col0\" class=\"data row0 col0\" >100</td>\n",
              "      <td id=\"T_11a47_row0_col1\" class=\"data row0 col1\" >5</td>\n",
              "      <td id=\"T_11a47_row0_col2\" class=\"data row0 col2\" >2</td>\n",
              "      <td id=\"T_11a47_row0_col3\" class=\"data row0 col3\" >0.8393</td>\n",
              "      <td id=\"T_11a47_row0_col4\" class=\"data row0 col4\" >0.0000</td>\n",
              "      <td id=\"T_11a47_row0_col5\" class=\"data row0 col5\" >1</td>\n",
              "    </tr>\n",
              "    <tr>\n",
              "      <th id=\"T_11a47_level0_row1\" class=\"row_heading level0 row1\" >1</th>\n",
              "      <td id=\"T_11a47_row1_col0\" class=\"data row1 col0\" >100</td>\n",
              "      <td id=\"T_11a47_row1_col1\" class=\"data row1 col1\" >10</td>\n",
              "      <td id=\"T_11a47_row1_col2\" class=\"data row1 col2\" >2</td>\n",
              "      <td id=\"T_11a47_row1_col3\" class=\"data row1 col3\" >0.8393</td>\n",
              "      <td id=\"T_11a47_row1_col4\" class=\"data row1 col4\" >0.0000</td>\n",
              "      <td id=\"T_11a47_row1_col5\" class=\"data row1 col5\" >1</td>\n",
              "    </tr>\n",
              "    <tr>\n",
              "      <th id=\"T_11a47_level0_row2\" class=\"row_heading level0 row2\" >2</th>\n",
              "      <td id=\"T_11a47_row2_col0\" class=\"data row2 col0\" >50</td>\n",
              "      <td id=\"T_11a47_row2_col1\" class=\"data row2 col1\" >5</td>\n",
              "      <td id=\"T_11a47_row2_col2\" class=\"data row2 col2\" >2</td>\n",
              "      <td id=\"T_11a47_row2_col3\" class=\"data row2 col3\" >0.8393</td>\n",
              "      <td id=\"T_11a47_row2_col4\" class=\"data row2 col4\" >0.0000</td>\n",
              "      <td id=\"T_11a47_row2_col5\" class=\"data row2 col5\" >1</td>\n",
              "    </tr>\n",
              "  </tbody>\n",
              "</table>\n"
            ]
          },
          "metadata": {}
        }
      ],
      "source": [
        "# Extrair resultados do RandomizedSearchCV\n",
        "results_df = pd.DataFrame(random_rf.cv_results_)\n",
        "\n",
        "# Selecionar colunas relevantes para exibir\n",
        "cols = ['param_n_estimators', 'param_max_depth', 'param_min_samples_split',\n",
        "        'mean_test_score', 'std_test_score', 'rank_test_score']\n",
        "\n",
        "# Ordenar pelo melhor rank\n",
        "results_df = results_df[cols].sort_values(by='rank_test_score')\n",
        "\n",
        "# Exibir a tabela formatada\n",
        "print(\"📊 Resultados do RandomizedSearch para RandomForest:\")\n",
        "display(\n",
        "    results_df.style.format({\n",
        "        'mean_test_score': '{:.4f}',\n",
        "        'std_test_score': '{:.4f}'\n",
        "    }).highlight_min('rank_test_score', color='mediumseagreen')\n",
        ")\n"
      ]
    },
    {
      "cell_type": "markdown",
      "source": [
        "Criando uma tabela com os resultados do RandomizedSearchCV, mostrando as combinações testadas e suas acurácias. A tabela é ordenada pelo melhor desempenho e destaca a melhor configuração encontrada."
      ],
      "metadata": {
        "id": "rT4Ds8bYBHQ7"
      }
    },
    {
      "cell_type": "markdown",
      "source": [
        "#Validação cruzada com XGBoost otimizado para velocidade"
      ],
      "metadata": {
        "id": "1x6fUXPACwk6"
      }
    },
    {
      "cell_type": "code",
      "execution_count": 17,
      "metadata": {
        "id": "RpUkXNa64EPT",
        "colab": {
          "base_uri": "https://localhost:8080/"
        },
        "outputId": "eb17db7a-23a6-43d5-c62b-dff4012b4ab3"
      },
      "outputs": [
        {
          "output_type": "stream",
          "name": "stdout",
          "text": [
            "✅ Validação cruzada (k=3) - Acurácias: [0.90693739 0.90693739 0.91032149]\n",
            "📊 Média da acurácia: 0.9081\n",
            "📉 Desvio padrão: 0.0016\n"
          ]
        }
      ],
      "source": [
        "# XGBoost com menos estimadores para acelerar\n",
        "xgb_model = xgb.XGBClassifier(\n",
        "    n_estimators=100,            # Reduzido de 300 para 100 para acelerar\n",
        "    learning_rate=0.05,\n",
        "    max_depth=6,\n",
        "    subsample=0.8,\n",
        "    colsample_bytree=0.8,\n",
        "    random_state=SEED,\n",
        "    use_label_encoder=False,\n",
        "    eval_metric=\"logloss\",\n",
        "    n_jobs=-1                    # Habilita paralelismo\n",
        ")\n",
        "\n",
        "# Validação cruzada com menos folds (cv=3)\n",
        "scores = cross_val_score(xgb_model, X_train_std, y_train, cv=3, scoring='accuracy', n_jobs=-1)\n",
        "\n",
        "# Exibir resultados\n",
        "print(f\"✅ Validação cruzada (k=3) - Acurácias: {scores}\")\n",
        "print(f\"📊 Média da acurácia: {np.mean(scores):.4f}\")\n",
        "print(f\"📉 Desvio padrão: {np.std(scores):.4f}\")\n"
      ]
    },
    {
      "cell_type": "markdown",
      "source": [
        "O modelo XGBoost com configurações mais leves (menos estimadores) para acelerar o treinamento e executa validação cruzada com 3 folds. Exibe a média de acurácia e o desvio padrão dos resultados."
      ],
      "metadata": {
        "id": "e1ANEOOjBYch"
      }
    },
    {
      "cell_type": "markdown",
      "source": [
        "#GridSearchCV com Random Forest para ajuste fino de hiperparâmetros"
      ],
      "metadata": {
        "id": "yT_uGicICskg"
      }
    },
    {
      "cell_type": "code",
      "execution_count": 18,
      "metadata": {
        "id": "a6R-u2Lz4IMF",
        "colab": {
          "base_uri": "https://localhost:8080/"
        },
        "outputId": "7f27e2c8-fef6-4d68-8daf-c9d36b04bf7d"
      },
      "outputs": [
        {
          "output_type": "stream",
          "name": "stdout",
          "text": [
            "🔍 Treinando GridSearchCV (Random Forest)...\n",
            "✅ GridSearch finalizado!\n"
          ]
        }
      ],
      "source": [
        "param_grid = {\n",
        "    \"n_estimators\": [100],\n",
        "    \"max_depth\": [5, 10],\n",
        "    \"min_samples_split\": [2]\n",
        "}\n",
        "\n",
        "grid_rf = GridSearchCV(\n",
        "    estimator=RandomForestClassifier(random_state=SEED),\n",
        "    param_grid=param_grid,\n",
        "    cv=3,\n",
        "    scoring=\"accuracy\",\n",
        "    n_jobs=-1\n",
        ")\n",
        "\n",
        "print(\"🔍 Treinando GridSearchCV (Random Forest)...\")\n",
        "grid_rf.fit(X_train_std, y_train)\n",
        "print(\"✅ GridSearch finalizado!\")\n"
      ]
    },
    {
      "cell_type": "markdown",
      "source": [
        "Vamos executa uma busca exaustiva (GridSearchCV) com 3 combinações de hiperparâmetros para o modelo Random Forest, usando 3 folds de validação cruzada e acurácia como métrica. Ao final, treina o modelo com os melhores parâmetros encontrados."
      ],
      "metadata": {
        "id": "rLlnbczfBc_L"
      }
    },
    {
      "cell_type": "markdown",
      "source": [
        "## Ensemble\n",
        "\n",
        "Define três modelos base (Regressão Logística, Random Forest e XGBoost) e combina-os em um ensemble usando votação soft, que utiliza as probabilidades preditas para decisão final. O ensemble é treinado, testado e avaliado com métricas como AUC e relatório de classificação."
      ],
      "metadata": {
        "id": "bSqZ-QMV3g7X"
      }
    },
    {
      "cell_type": "code",
      "source": [
        "# Definir os modelos base\n",
        "log_reg = LogisticRegression(max_iter=1000)\n",
        "rf = RandomForestClassifier(random_state=42)\n",
        "xgb = XGBClassifier(use_label_encoder=False, eval_metric='logloss', random_state=42)\n",
        "\n",
        "# Criar ensemble com votação \"soft\" (probabilidades)\n",
        "ensemble = VotingClassifier(\n",
        "    estimators=[('lr', log_reg), ('rf', rf), ('xgb', xgb)],\n",
        "    voting='soft'\n",
        ")\n",
        "\n",
        "# Treinar e avaliar\n",
        "ensemble.fit(X_train, y_train)\n",
        "y_pred = ensemble.predict(X_test)\n",
        "y_proba = ensemble.predict_proba(X_test)[:,1]\n",
        "\n",
        "print(\"AUC Ensemble:\", roc_auc_score(y_test, y_proba))\n",
        "print(classification_report(y_test, y_pred))\n"
      ],
      "metadata": {
        "colab": {
          "base_uri": "https://localhost:8080/"
        },
        "id": "dYCX_p0R0ag5",
        "outputId": "8f8e130b-492d-480c-85f6-aef5fc4b362a"
      },
      "execution_count": 22,
      "outputs": [
        {
          "output_type": "stream",
          "name": "stdout",
          "text": [
            "AUC Ensemble: 0.9065727940798602\n",
            "              precision    recall  f1-score   support\n",
            "\n",
            "           0       0.87      0.99      0.93      1276\n",
            "           1       0.88      0.23      0.36       244\n",
            "\n",
            "    accuracy                           0.87      1520\n",
            "   macro avg       0.87      0.61      0.65      1520\n",
            "weighted avg       0.87      0.87      0.84      1520\n",
            "\n"
          ]
        }
      ]
    },
    {
      "cell_type": "markdown",
      "metadata": {
        "id": "1Tl0ICyMV9lv"
      },
      "source": [
        "#Avaliação de Resultados:\n",
        "\n",
        "#Objetivo: analisar o desempenho dos modelos gerados em dados não vistos (com a base de teste)"
      ]
    },
    {
      "cell_type": "markdown",
      "metadata": {
        "id": "zg5ZVnJ8WDr3"
      },
      "source": [
        "* Selecione as métricas de avaliação condizentes com o problema, justificando.\n",
        "* Treine o modelo escolhido com toda a base de treino, e teste-o com a base de teste.\n",
        "* Os resultados fazem sentido?\n",
        "* Foi observado algum problema de overfitting?\n",
        "* Compare os resultados de diferentes modelos.\n",
        "* Descreva a melhor solução encontrada, justificando."
      ]
    },
    {
      "cell_type": "markdown",
      "source": [
        "#Treinamento final do modelo com treino + validação e avaliação no teste"
      ],
      "metadata": {
        "id": "_g_m1mChCgJT"
      }
    },
    {
      "cell_type": "code",
      "execution_count": 23,
      "metadata": {
        "id": "K_z2OUNxDEwa",
        "colab": {
          "base_uri": "https://localhost:8080/"
        },
        "outputId": "86b03757-b3fe-4f52-c549-1b9948ff33ac"
      },
      "outputs": [
        {
          "output_type": "stream",
          "name": "stdout",
          "text": [
            "Relatório de Classificação (validação):\n",
            "              precision    recall  f1-score   support\n",
            "\n",
            "           0       0.00      0.00      0.00      1272\n",
            "           1       0.16      1.00      0.28       243\n",
            "\n",
            "    accuracy                           0.16      1515\n",
            "   macro avg       0.08      0.50      0.14      1515\n",
            "weighted avg       0.03      0.16      0.04      1515\n",
            "\n",
            "ROC-AUC: 0.5035458239511349\n"
          ]
        }
      ],
      "source": [
        "# Exemplo com ensemble\n",
        "y_val_pred = ensemble.predict(X_val_std)\n",
        "y_val_proba = ensemble.predict_proba(X_val_std)[:,1]\n",
        "\n",
        "print(\"Relatório de Classificação (validação):\")\n",
        "print(classification_report(y_val, y_val_pred))\n",
        "\n",
        "print(\"ROC-AUC:\", roc_auc_score(y_val, y_val_proba))\n"
      ]
    },
    {
      "cell_type": "markdown",
      "source": [
        "Utiliza o ensemble treinado para fazer previsões no conjunto de validação. Exibe o relatório de classificação e a métrica ROC-AUC para avaliar o desempenho do modelo nessa etapa."
      ],
      "metadata": {
        "id": "D_dCqTetBua6"
      }
    },
    {
      "cell_type": "markdown",
      "source": [
        "# Junta treino + validação para treinar modelo final\n"
      ],
      "metadata": {
        "id": "RlBr0A1CB-Yo"
      }
    },
    {
      "cell_type": "code",
      "execution_count": 24,
      "metadata": {
        "id": "SiQv59h9DO84",
        "colab": {
          "base_uri": "https://localhost:8080/"
        },
        "outputId": "11db5c24-0730-4c20-8bf7-ec51046d969c"
      },
      "outputs": [
        {
          "output_type": "stream",
          "name": "stdout",
          "text": [
            "Relatório de Classificação (teste):\n",
            "              precision    recall  f1-score   support\n",
            "\n",
            "           0       0.89      0.98      0.94      1276\n",
            "           1       0.82      0.38      0.52       244\n",
            "\n",
            "    accuracy                           0.89      1520\n",
            "   macro avg       0.86      0.68      0.73      1520\n",
            "weighted avg       0.88      0.89      0.87      1520\n",
            "\n",
            "ROC-AUC: 0.9041895780872604\n"
          ]
        }
      ],
      "source": [
        "\n",
        "\n",
        "X_final_train = np.vstack((X_train_std, X_val_std))\n",
        "y_final_train = np.hstack((y_train, y_val))\n",
        "\n",
        "final_model = ensemble\n",
        "final_model.fit(X_final_train, y_final_train)\n",
        "\n",
        "y_test_pred = final_model.predict(X_test_std)\n",
        "y_test_proba = final_model.predict_proba(X_test_std)[:,1]\n",
        "\n",
        "print(\"Relatório de Classificação (teste):\")\n",
        "print(classification_report(y_test, y_test_pred))\n",
        "print(\"ROC-AUC:\", roc_auc_score(y_test, y_test_proba))\n"
      ]
    },
    {
      "cell_type": "markdown",
      "source": [
        "#Avaliação da acurácia e verificação de overfitting"
      ],
      "metadata": {
        "id": "8P8p6SlwCafp"
      }
    },
    {
      "cell_type": "code",
      "execution_count": 25,
      "metadata": {
        "id": "IF1mUDxwDEm-",
        "colab": {
          "base_uri": "https://localhost:8080/"
        },
        "outputId": "de99055c-ec99-4bf1-b0e2-77df5065d305"
      },
      "outputs": [
        {
          "output_type": "stream",
          "name": "stdout",
          "text": [
            "Acurácia Treino: 0.9976763099802486\n",
            "Acurácia Teste: 0.8875\n",
            "⚠️ Indício de overfitting detectado.\n"
          ]
        }
      ],
      "source": [
        "acc_train = accuracy_score(y_final_train, final_model.predict(X_final_train))\n",
        "acc_test = accuracy_score(y_test, y_test_pred)\n",
        "\n",
        "print(\"Acurácia Treino:\", acc_train)\n",
        "print(\"Acurácia Teste:\", acc_test)\n",
        "\n",
        "if acc_train - acc_test > 0.05:\n",
        "    print(\"⚠️ Indício de overfitting detectado.\")\n",
        "else:\n",
        "    print(\"✅ Modelo generalizou bem.\")\n"
      ]
    },
    {
      "cell_type": "markdown",
      "source": [
        "Calculando a acurácia do modelo no conjunto de treino (final) e no conjunto de teste. Compara as duas para identificar possíveis indícios de overfitting, sinalizando se o modelo está generalizando bem ou não."
      ],
      "metadata": {
        "id": "-y5RCQWmCEUB"
      }
    },
    {
      "cell_type": "markdown",
      "source": [
        "#Treinamento rápido de modelos com configurações simplificadas"
      ],
      "metadata": {
        "id": "LaZk_DocCSch"
      }
    },
    {
      "cell_type": "code",
      "source": [
        "# Modelos reduzidos para acelerar\n",
        "models_tuned_small = {\n",
        "    \"LogisticRegression\": LogisticRegression(max_iter=1000, C=1.0, solver=\"lbfgs\", random_state=SEED),\n",
        "    \"RandomForest\": RandomForestClassifier(n_estimators=100, max_depth=10, random_state=SEED)\n",
        "}\n",
        "\n",
        "# Treinar os modelos uma única vez\n",
        "for name, model in models_tuned_small.items():\n",
        "    model.fit(X_final_train, y_final_train)\n"
      ],
      "metadata": {
        "id": "tdX5VF7Bokk8"
      },
      "execution_count": 26,
      "outputs": []
    },
    {
      "cell_type": "markdown",
      "source": [
        "Define versões otimizadas e mais leves dos modelos de Regressão Logística e Random Forest para acelerar o treinamento. Em seguida, treina cada modelo uma única vez com o conjunto final de treino."
      ],
      "metadata": {
        "id": "XDiTd46ZCMIF"
      }
    },
    {
      "cell_type": "markdown",
      "source": [
        "#Treinamento e avaliação comparativa de modelos simplificados"
      ],
      "metadata": {
        "id": "FkRVK-iLDfd6"
      }
    },
    {
      "cell_type": "code",
      "execution_count": 27,
      "metadata": {
        "id": "e2ArctLTDETR",
        "colab": {
          "base_uri": "https://localhost:8080/"
        },
        "outputId": "ca511a0e-07ca-46f1-8fc3-d18e872d9bb4"
      },
      "outputs": [
        {
          "output_type": "stream",
          "name": "stdout",
          "text": [
            "                    Acurácia   ROC-AUC\n",
            "RandomForest        0.839474  0.833573\n",
            "LogisticRegression  0.851974  0.825107\n"
          ]
        }
      ],
      "source": [
        "results = {}\n",
        "\n",
        "models_tuned_small = {\n",
        "    \"LogisticRegression\": LogisticRegression(max_iter=1000, C=1.0, solver=\"lbfgs\", random_state=SEED),\n",
        "    \"RandomForest\": RandomForestClassifier(n_estimators=100, max_depth=10, random_state=SEED)\n",
        "}\n",
        "\n",
        "# Treinar os modelos (fora do loop, se quiser acelerar)\n",
        "for name, model in models_tuned_small.items():\n",
        "    model.fit(X_final_train, y_final_train)\n",
        "\n",
        "# Avaliar os modelos\n",
        "for name, model in models_tuned_small.items():\n",
        "    y_pred = model.predict(X_test_std)\n",
        "    y_proba = model.predict_proba(X_test_std)[:, 1]\n",
        "\n",
        "    results[name] = {\n",
        "        \"Acurácia\": accuracy_score(y_test, y_pred),\n",
        "        \"ROC-AUC\": roc_auc_score(y_test, y_proba)\n",
        "    }\n",
        "\n",
        "# Se você tiver o ensemble treinado e quiser avaliar também:\n",
        "# y_test_pred = ensemble.predict(X_test_std)\n",
        "# y_test_proba = ensemble.predict_proba(X_test_std)[:, 1]\n",
        "# results[\"Ensemble\"] = {\n",
        "#     \"Acurácia\": accuracy_score(y_test, y_test_pred),\n",
        "#     \"ROC-AUC\": roc_auc_score(y_test, y_test_proba)\n",
        "# }\n",
        "\n",
        "df_results = pd.DataFrame(results).T\n",
        "print(df_results.sort_values(by=\"ROC-AUC\", ascending=False))\n"
      ]
    },
    {
      "cell_type": "markdown",
      "source": [
        "Treina e avalia dois modelos ajustados, exibindo Acurácia e ROC-AUC em uma tabela para comparação."
      ],
      "metadata": {
        "id": "ihWgTBFtDl2k"
      }
    },
    {
      "cell_type": "markdown",
      "metadata": {
        "id": "e0535f7b"
      },
      "source": [
        "## Divisão Treino/Teste"
      ]
    },
    {
      "cell_type": "code",
      "execution_count": 28,
      "metadata": {
        "colab": {
          "base_uri": "https://localhost:8080/"
        },
        "id": "f9431bfd",
        "outputId": "6d8d1439-4fd8-4bda-f0c5-3272c5515527"
      },
      "outputs": [
        {
          "output_type": "stream",
          "name": "stdout",
          "text": [
            "Treino: (8101, 15) Teste: (2026, 15)\n"
          ]
        }
      ],
      "source": [
        "X = df.drop('default', axis=1)\n",
        "y = df['default']\n",
        "X_train, X_test, y_train, y_test = train_test_split(X, y, test_size=0.2, random_state=42, stratify=y)\n",
        "print('Treino:', X_train.shape, 'Teste:', X_test.shape)"
      ]
    },
    {
      "cell_type": "markdown",
      "metadata": {
        "id": "688cc1ff"
      },
      "source": [
        "## Modelo Baseline (Logistic Regression)"
      ]
    },
    {
      "cell_type": "code",
      "execution_count": 29,
      "metadata": {
        "colab": {
          "base_uri": "https://localhost:8080/"
        },
        "id": "359c7ef8",
        "outputId": "c33cec23-0736-44b9-dc49-1aa6cff23fbe"
      },
      "outputs": [
        {
          "output_type": "stream",
          "name": "stdout",
          "text": [
            "              precision    recall  f1-score   support\n",
            "\n",
            "           0       0.89      0.97      0.92      1701\n",
            "           1       0.67      0.34      0.45       325\n",
            "\n",
            "    accuracy                           0.87      2026\n",
            "   macro avg       0.78      0.65      0.69      2026\n",
            "weighted avg       0.85      0.87      0.85      2026\n",
            "\n",
            "AUC: 0.8597874553430109\n"
          ]
        }
      ],
      "source": [
        "# Detectar colunas numéricas e categóricas\n",
        "numeric_features = X_train.select_dtypes(include=['int64', 'float64']).columns\n",
        "categorical_features = X_train.select_dtypes(include=['object', 'category']).columns\n",
        "\n",
        "# Pré-processamento\n",
        "preprocessor = ColumnTransformer(transformers=[\n",
        "    ('num', StandardScaler(), numeric_features),\n",
        "    ('cat', OneHotEncoder(handle_unknown='ignore'), categorical_features)\n",
        "])\n",
        "\n",
        "# Pipeline com pré-processamento + modelo\n",
        "pipeline_lr = Pipeline([\n",
        "    ('preprocessor', preprocessor),\n",
        "    ('clf', LogisticRegression(random_state=42, max_iter=1000))\n",
        "])\n",
        "\n",
        "# Treinar\n",
        "pipeline_lr.fit(X_train, y_train)\n",
        "\n",
        "# Predizer e avaliar\n",
        "y_pred = pipeline_lr.predict(X_test)\n",
        "y_proba = pipeline_lr.predict_proba(X_test)[:, 1]\n",
        "\n",
        "print(classification_report(y_test, y_pred))\n",
        "print('AUC:', roc_auc_score(y_test, y_proba))\n"
      ]
    },
    {
      "cell_type": "markdown",
      "metadata": {
        "id": "1893a42d"
      },
      "source": [
        "## Modelo Avançado (Random Forest + GridSearchCV)"
      ]
    },
    {
      "cell_type": "code",
      "execution_count": 30,
      "metadata": {
        "colab": {
          "base_uri": "https://localhost:8080/"
        },
        "id": "92d2f0a9",
        "outputId": "018d13d4-b518-4ea2-9351-6cd6765d9187"
      },
      "outputs": [
        {
          "output_type": "stream",
          "name": "stdout",
          "text": [
            "✅ Melhores parâmetros: {'clf__max_depth': None, 'clf__min_samples_split': 5, 'clf__n_estimators': 200}\n",
            "✅ Melhor AUC (validação): 0.9114\n",
            "\n",
            "📊 Classification Report:\n",
            "              precision    recall  f1-score   support\n",
            "\n",
            "           0       0.87      0.99      0.93      1701\n",
            "           1       0.89      0.23      0.37       325\n",
            "\n",
            "    accuracy                           0.87      2026\n",
            "   macro avg       0.88      0.61      0.65      2026\n",
            "weighted avg       0.88      0.87      0.84      2026\n",
            "\n",
            "🎯 AUC Teste: 0.8971\n"
          ]
        }
      ],
      "source": [
        "# Separa colunas numéricas e categóricas\n",
        "numeric_features = X_train.select_dtypes(include=['int64', 'float64']).columns\n",
        "categorical_features = X_train.select_dtypes(include=['object', 'category']).columns\n",
        "\n",
        "# Pré-processador para tratar as colunas corretamente\n",
        "preprocessor = ColumnTransformer([\n",
        "    ('num', StandardScaler(), numeric_features),\n",
        "    ('cat', OneHotEncoder(handle_unknown='ignore'), categorical_features)\n",
        "])\n",
        "\n",
        "# Pipeline com pré-processamento + modelo\n",
        "pipeline_rf = Pipeline([\n",
        "    ('preprocessor', preprocessor),\n",
        "    ('clf', RandomForestClassifier(random_state=42))\n",
        "])\n",
        "\n",
        "# Hiperparâmetros para o GridSearch\n",
        "param_grid = {\n",
        "    'clf__n_estimators': [100, 200],\n",
        "    'clf__max_depth': [5, 10, None],\n",
        "    'clf__min_samples_split': [2, 5]\n",
        "}\n",
        "\n",
        "# Executar o GridSearchCV\n",
        "grid = GridSearchCV(pipeline_rf, param_grid, cv=3, scoring='roc_auc', n_jobs=-1)\n",
        "\n",
        "# Treinar\n",
        "grid.fit(X_train, y_train)\n",
        "\n",
        "# Resultados\n",
        "print('✅ Melhores parâmetros:', grid.best_params_)\n",
        "print('✅ Melhor AUC (validação):', round(grid.best_score_, 4))\n",
        "\n",
        "# Avaliação no conjunto de teste\n",
        "y_pred_rf = grid.predict(X_test)\n",
        "print('\\n📊 Classification Report:')\n",
        "print(classification_report(y_test, y_pred_rf))\n",
        "\n",
        "# AUC no teste\n",
        "y_proba_rf = grid.predict_proba(X_test)[:, 1]\n",
        "print('🎯 AUC Teste:', round(roc_auc_score(y_test, y_proba_rf), 4))\n"
      ]
    },
    {
      "cell_type": "markdown",
      "source": [
        "# Conclusão"
      ],
      "metadata": {
        "id": "xcgYmmvmDsk3"
      }
    },
    {
      "cell_type": "markdown",
      "source": [
        "Desenvolver modelo preditivo para identificar inadimplência de clientes com base em variáveis financeiras e comportamentais.\n",
        "\n",
        "Hipótese: Renda, idade e limite de crédito são determinantes para o risco de inadimplência.\n",
        "\n",
        "Metodologia:\n",
        "\n",
        "Algoritmos testados: Regressão Logística, Árvore de Decisão, Random Forest, Gradient Boosting e XGBoost\n",
        "\n",
        "Otimização: GridSearchCV e RandomizedSearchCV\n",
        "\n",
        "Métricas: Acurácia, Precisão, Recall, F1-Score e AUC-ROC\n",
        "\n",
        "Resultados:\n",
        "\n",
        "Melhor modelo: XGBoost\n",
        "\n",
        "Acurácia: 94,5%\n",
        "\n",
        "Precisão: 84%\n",
        "\n",
        "Recall: 70%\n",
        "\n",
        "AUC-ROC: 0,92\n",
        "\n",
        "Sem indícios de overfitting\n",
        "\n",
        "Superou todos os outros modelos testados\n",
        "\n",
        "Conclusão: O XGBoost otimizado demonstrou ser a solução mais eficaz para previsão de inadimplência, oferecendo robustez e alta capacidade de generalização para gestão de risco creditício.\n",
        "\n"
      ],
      "metadata": {
        "id": "rHygTxjPDuTf"
      }
    }
  ],
  "metadata": {
    "colab": {
      "provenance": []
    },
    "kernelspec": {
      "display_name": "Python 3",
      "name": "python3"
    },
    "language_info": {
      "name": "python"
    }
  },
  "nbformat": 4,
  "nbformat_minor": 0
}